{
 "cells": [
  {
   "cell_type": "code",
   "execution_count": 141,
   "id": "5cd6fe4d",
   "metadata": {},
   "outputs": [],
   "source": [
    "import torch\n",
    "from torch.distributions.normal import Normal\n",
    "from torch.distributions.multivariate_normal import MultivariateNormal\n",
    "from torch.distributions.independent import Independent\n",
    "\n",
    "import time\n",
    "\n",
    "import matplotlib.pyplot as plt"
   ]
  },
  {
   "cell_type": "code",
   "execution_count": 274,
   "id": "cce46f26",
   "metadata": {},
   "outputs": [],
   "source": [
    "torch.manual_seed(34)\n",
    "n = 1\n",
    "d = 2\n",
    "X_no_intercept = torch.randn(n, d - 1)\n",
    "X = torch.hstack([X_no_intercept, torch.ones(n, 1)])\n",
    "w = torch.Tensor([-5.] * d).view(1, d)\n",
    "σ = 0.5\n",
    "y = X @ w.T + torch.randn(n, 1) * σ"
   ]
  },
  {
   "cell_type": "code",
   "execution_count": 275,
   "id": "713431ed",
   "metadata": {},
   "outputs": [
    {
     "data": {
      "image/png": "[encoded data removed]",
      "text/plain": [
       "<Figure size 432x288 with 1 Axes>"
      ]
     },
     "metadata": {
      "needs_background": "light"
     },
     "output_type": "display_data"
    }
   ],
   "source": [
    "plt.scatter(X_no_intercept.view(-1), y.view(-1))\n",
    "plt.show()"
   ]
  },
  {
   "cell_type": "code",
   "execution_count": 276,
   "id": "75595b41",
   "metadata": {},
   "outputs": [],
   "source": [
    "prior = MultivariateNormal(loc=torch.zeros(d, ), covariance_matrix=torch.eye(d))"
   ]
  },
  {
   "cell_type": "code",
   "execution_count": 277,
   "id": "172fd0d1",
   "metadata": {},
   "outputs": [],
   "source": [
    "def log_unnormalized_posterior(w):\n",
    "    # X: (n, d)\n",
    "    # w: (m, d)\n",
    "    # w @ X.T: (m, d) @ (d, n) = (m, n)\n",
    "    model = Independent(Normal(loc=(w @ X.T), scale=σ), 1)\n",
    "    # too inefficient\n",
    "    #model = MultivariateNormal(loc=(w @ X.T), covariance_matrix=torch.eye(n) * σ)\n",
    "    return prior.log_prob(w) + model.log_prob(y.view(1, -1))"
   ]
  },
  {
   "cell_type": "code",
   "execution_count": 278,
   "id": "746fe5c2",
   "metadata": {},
   "outputs": [],
   "source": [
    "xs = torch.linspace(-20, 20, 100)\n",
    "ys = torch.linspace(-20, 20, 100)\n",
    "xxs, yys = torch.meshgrid(xs, ys)\n",
    "xxsyys = torch.hstack([xxs.reshape(-1, 1), yys.reshape(-1, 1)])\n",
    "logposts = log_unnormalized_posterior(xxsyys).view(100, 100)"
   ]
  },
  {
   "cell_type": "code",
   "execution_count": 279,
   "id": "971bb5ff",
   "metadata": {},
   "outputs": [
    {
     "data": {
      "image/png": "[encoded data removed]",
      "text/plain": [
       "<Figure size 252x252 with 1 Axes>"
      ]
     },
     "metadata": {
      "needs_background": "light"
     },
     "output_type": "display_data"
    }
   ],
   "source": [
    "plt.figure(figsize=(3.5, 3.5))\n",
    "plt.contourf(xxs, yys, logposts, levels=20)\n",
    "plt.scatter([w[0][0]], [w[0][1]], color=\"red\")\n",
    "plt.show()"
   ]
  },
  {
   "cell_type": "code",
   "execution_count": null,
   "id": "0de58aad",
   "metadata": {},
   "outputs": [],
   "source": []
  },
  {
   "cell_type": "code",
   "execution_count": null,
   "id": "9a6c7e58",
   "metadata": {},
   "outputs": [],
   "source": []
  }
 ],
 "metadata": {
  "kernelspec": {
   "display_name": "Python 3 (ipykernel)",
   "language": "python",
   "name": "python3"
  },
  "language_info": {
   "codemirror_mode": {
    "name": "ipython",
    "version": 3
   },
   "file_extension": ".py",
   "mimetype": "text/x-python",
   "name": "python",
   "nbconvert_exporter": "python",
   "pygments_lexer": "ipython3",
   "version": "3.8.13"
  },
  "toc": {
   "base_numbering": 1,
   "nav_menu": {},
   "number_sections": false,
   "sideBar": true,
   "skip_h1_title": false,
   "title_cell": "Table of Contents",
   "title_sidebar": "Contents",
   "toc_cell": false,
   "toc_position": {},
   "toc_section_display": true,
   "toc_window_display": false
  }
 },
 "nbformat": 4,
 "nbformat_minor": 5
}
