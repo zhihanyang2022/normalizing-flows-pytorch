{
 "cells": [
  {
   "cell_type": "code",
   "execution_count": 841,
   "id": "b98cdc1c",
   "metadata": {},
   "outputs": [],
   "source": [
    "import numpy as np\n",
    "from scipy.stats import kde\n",
    "\n",
    "import torch\n",
    "import torch.nn as nn\n",
    "import torch.optim as optim\n",
    "import torch.distributions as dst\n",
    "from torch.autograd.functional import jacobian\n",
    "\n",
    "import matplotlib.pyplot as plt\n",
    "import time"
   ]
  },
  {
   "cell_type": "code",
   "execution_count": 639,
   "id": "a494a4b7",
   "metadata": {},
   "outputs": [],
   "source": [
    "class PlanarFlow(nn.Module):\n",
    "\n",
    "    def __init__(self, D):\n",
    "        super().__init__()\n",
    "        self.w = nn.Parameter(data=torch.randn(D, 1))\n",
    "        self.u = nn.Parameter(data=torch.zeros(1, D))\n",
    "        self.b = nn.Parameter(data=torch.randn(1, 1))\n",
    "        \n",
    "    #@property\n",
    "    #def u_hat(self):\n",
    "    #    w = self.w.detach()\n",
    "    #    w_dot_u = self.u @ w\n",
    "    #    return self.u + (-1 + torch.log(1 + torch.exp(w_dot_u)) - w_dot_u) * (w.T) / (torch.norm(w)) ** 2\n",
    "        \n",
    "    def forward(self, z):\n",
    "        return z + self.u * torch.tanh(z @ self.w + self.b)"
   ]
  },
  {
   "cell_type": "code",
   "execution_count": 642,
   "id": "a6ac92a7",
   "metadata": {},
   "outputs": [],
   "source": [
    "def batch_jacobian(f, x):\n",
    "    f_sum = lambda x: torch.sum(f(x), axis=0)\n",
    "    return jacobian(f_sum, x, create_graph=True).permute(1,0,2)"
   ]
  },
  {
   "cell_type": "code",
   "execution_count": 643,
   "id": "8770368b",
   "metadata": {},
   "outputs": [],
   "source": [
    "#def easy_func(xs):\n",
    "#    return xs @ torch.tensor([[3., 4.], [5., 6.]])\n",
    "\n",
    "# batch_jacobian(easy_func, torch.randn(100, 2))\n",
    "#torch.linalg.slogdet(batch_jacobian(easy_func, torch.randn(100, 2)))"
   ]
  },
  {
   "cell_type": "code",
   "execution_count": 644,
   "id": "f2ad9ef4",
   "metadata": {},
   "outputs": [],
   "source": [
    "class NormalizingFlowInefficient(nn.Module):\n",
    "    \n",
    "    def __init__(self, D=2, K=100):\n",
    "        super().__init__()\n",
    "        self.μ = nn.Parameter(torch.zeros(D, ))\n",
    "        self.pre_σ = nn.Parameter(data=torch.zeros(D, ))\n",
    "        self.q_0 = dst.multivariate_normal.MultivariateNormal(self.μ, torch.eye(D) * torch.exp(self.pre_σ))\n",
    "        self.layers = [PlanarFlow(D) for _ in range(K)]\n",
    "        self.transformation = nn.Sequential(*self.layers)\n",
    "        \n",
    "    def sample_from_each_layer(self, n):\n",
    "        z_0 = self.q_0.sample(sample_shape=(n, ))\n",
    "        zs = [z_0]\n",
    "        z = z_0\n",
    "        for layer in self.layers:\n",
    "            z = layer(z)\n",
    "            zs.append(z)\n",
    "        return zs\n",
    "    \n",
    "    def sample_and_return_log_prob(self, n):\n",
    "        z_0 = self.q_0.rsample(sample_shape=(n, ))  # use rsample so that we can train self.μ and self.pre_σ\n",
    "        logabsdet = torch.linalg.slogdet(batch_jacobian(self.transformation, z_0))[1]\n",
    "        z_K = self.transformation(z_0)\n",
    "        return z_0, z_K, self.q_0.log_prob(z_0) - logabsdet"
   ]
  },
  {
   "cell_type": "markdown",
   "id": "3e5f552d",
   "metadata": {},
   "source": [
    "## Potential function"
   ]
  },
  {
   "cell_type": "markdown",
   "id": "68921b6b",
   "metadata": {},
   "source": [
    "### My custom potential function"
   ]
  },
  {
   "cell_type": "code",
   "execution_count": 825,
   "id": "7c4df45f",
   "metadata": {},
   "outputs": [],
   "source": [
    "def U_with_argument(z, angle, distance):\n",
    "    rotational_matrix = torch.Tensor([\n",
    "        [torch.cos(torch.tensor(angle)), -torch.sin(torch.tensor(angle))],\n",
    "        [torch.sin(torch.tensor(angle)), torch.cos(torch.tensor(angle))]\n",
    "    ])\n",
    "    z = (rotational_matrix @ z.T).T\n",
    "    term1 = 0.5 * ((torch.sqrt(z[:,0] ** 2 + z[:,1] ** 2) - distance) / 0.4) ** 2\n",
    "    term2 = torch.log(\n",
    "        torch.exp(-0.5 * ((z[:,0] - distance) / 0.6) ** 2) + \n",
    "        torch.exp(-0.5 * ((z[:,0] + distance) / 0.6) ** 2) + \n",
    "        1e-5\n",
    "    )\n",
    "    return (term1 - term2)"
   ]
  },
  {
   "cell_type": "code",
   "execution_count": 826,
   "id": "c0fea177",
   "metadata": {},
   "outputs": [],
   "source": [
    "def U_eight(z):\n",
    "    return U_with_argument(z, torch.pi/4, 3) + \\\n",
    "           U_with_argument(z, torch.pi / 2 + torch.pi/4, 3) + \\\n",
    "           U_with_argument(z, 0, 3) + \\\n",
    "           U_with_argument(z, torch.pi / 2, 3)"
   ]
  },
  {
   "cell_type": "markdown",
   "id": "d4ba913a",
   "metadata": {},
   "source": [
    "### Other potential functions from paper"
   ]
  },
  {
   "cell_type": "code",
   "execution_count": 808,
   "id": "98e61c8e",
   "metadata": {},
   "outputs": [],
   "source": [
    "def w1(z): return torch.sin(2 * torch.pi * z[:, 0] / 4)                 \n",
    "def w2(z): return 3 * torch.exp(-0.5 * ((z[:, 0] - 1) / 0.5) ** 2)\n",
    "def σ(x): return 1 / (1 + torch.exp(-x))\n",
    "def w3(z): return 3 * σ((z[:, 0] - 1) / 0.3)"
   ]
  },
  {
   "cell_type": "code",
   "execution_count": 809,
   "id": "91244e26",
   "metadata": {},
   "outputs": [],
   "source": [
    "def taper(z):\n",
    "    return torch.sigmoid(\n",
    "        ( 5 - torch.linalg.vector_norm(z, dim=1, ord=np.inf) ) * 10\n",
    "    )"
   ]
  },
  {
   "cell_type": "code",
   "execution_count": 810,
   "id": "2df52c4d",
   "metadata": {},
   "outputs": [],
   "source": [
    "def add_taper(potential):\n",
    "    def new_potential(z):\n",
    "        # so density is exp(-potential(z) + log(taper(z))) = exp(-potential(z)) * taper(z)\n",
    "        return potential(z) - torch.log(taper(z))  \n",
    "    return new_potential"
   ]
  },
  {
   "cell_type": "code",
   "execution_count": 834,
   "id": "cef786c2",
   "metadata": {},
   "outputs": [],
   "source": [
    "def U1(z):\n",
    "    part_1 = (1/2) * ((torch.sqrt(z[:,0] ** 2 + z[:,1]**2) - 2) / 0.4) ** 2\n",
    "    part_2 = torch.log(\n",
    "        torch.exp(-0.5 * ((z[:,0] - 2) / 0.6) ** 2) + \n",
    "        torch.exp(-0.5 * ((z[:,0] + 2) / 0.6) ** 2)\n",
    "    )\n",
    "    return (part_1 - part_2)"
   ]
  },
  {
   "cell_type": "code",
   "execution_count": 835,
   "id": "b83a6db6",
   "metadata": {},
   "outputs": [],
   "source": [
    "@add_taper\n",
    "def U2(z):\n",
    "    return ((1/2) * ((z[:,1] - w1(z)) / 0.4) ** 2)"
   ]
  },
  {
   "cell_type": "code",
   "execution_count": 836,
   "id": "c5a68f13",
   "metadata": {},
   "outputs": [],
   "source": [
    "@add_taper\n",
    "def U3(z):\n",
    "    return - torch.log(\n",
    "        torch.exp(-0.5 * ((z[:, 1] - w1(z)) / 0.35) ** 2) + \n",
    "        torch.exp(-0.5 * ((z[:, 1] - w1(z) + w2(z)) / 0.35) ** 2)\n",
    "    )"
   ]
  },
  {
   "cell_type": "code",
   "execution_count": 837,
   "id": "b8b7bb66",
   "metadata": {},
   "outputs": [],
   "source": [
    "@add_taper\n",
    "def U4(z):\n",
    "    return - torch.log(\n",
    "        torch.exp(-0.5 * ((z[:, 1] - w1(z)) / 0.34) ** 2) + \n",
    "        torch.exp(-0.5 * ((z[:, 1] - w1(z) + w3(z)) / 0.35) ** 2)\n",
    "    )"
   ]
  },
  {
   "cell_type": "markdown",
   "id": "6312996a",
   "metadata": {},
   "source": [
    "## Choosing a potential function"
   ]
  },
  {
   "cell_type": "code",
   "execution_count": 874,
   "id": "b215c8a7",
   "metadata": {},
   "outputs": [],
   "source": [
    "potential = \"U8\"\n",
    "\n",
    "if potential == \"U1\":\n",
    "    U = U1\n",
    "elif potential == \"U2\":\n",
    "    U = U2\n",
    "elif potential == \"U3\":\n",
    "    U = U3\n",
    "elif potential == \"U4\":\n",
    "    U = U4\n",
    "elif potential == \"U8\":\n",
    "    U = U_eight"
   ]
  },
  {
   "cell_type": "markdown",
   "id": "7f8ba460",
   "metadata": {},
   "source": [
    "## Graphing potential function"
   ]
  },
  {
   "cell_type": "code",
   "execution_count": 875,
   "id": "41156817",
   "metadata": {
    "scrolled": true
   },
   "outputs": [
    {
     "data": {
      "image/png": "[encoded data removed]",
      "text/plain": [
       "<Figure size 270x270 with 1 Axes>"
      ]
     },
     "metadata": {
      "needs_background": "light"
     },
     "output_type": "display_data"
    }
   ],
   "source": [
    "fig = plt.figure(figsize=(3.75, 3.75))\n",
    "\n",
    "xs = torch.linspace(-6, 6, 100)\n",
    "xxs, yys = torch.meshgrid(xs, xs)\n",
    "xxs2, yys2 = xxs.reshape(-1, 1), yys.reshape(-1, 1)\n",
    "unnorm_p = torch.exp(- U(torch.hstack([xxs2, yys2]))) #* decay(torch.hstack([xxs2, yys2]))\n",
    "\n",
    "plt.contourf(xxs.numpy(), yys.numpy(), unnorm_p.reshape(100, 100).numpy(), levels=100, cmap=\"jet\")\n",
    "plt.xlim(-6, 6)\n",
    "plt.ylim(-6, 6)\n",
    "plt.axis(\"off\")\n",
    "plt.gca().set_aspect('equal', adjustable='box')\n",
    "plt.savefig(f\"{potential}_true_density.png\", dpi=300, bbox_inches='tight')"
   ]
  },
  {
   "cell_type": "markdown",
   "id": "b8c1045f",
   "metadata": {},
   "source": [
    "## Training"
   ]
  },
  {
   "cell_type": "code",
   "execution_count": 876,
   "id": "70a02729",
   "metadata": {},
   "outputs": [
    {
     "name": "stdout",
     "output_type": "stream",
     "text": [
      "100 13.732675552368164\n",
      "200 10.137288093566895\n",
      "300 8.97249984741211\n",
      "400 8.657505989074707\n",
      "500 8.597501754760742\n",
      "600 8.32496452331543\n",
      "700 8.226412773132324\n",
      "800 8.153986930847168\n",
      "900 8.162725448608398\n",
      "1000 8.140687942504883\n",
      "1100 8.081088066101074\n",
      "1200 8.092832565307617\n",
      "1300 8.112079620361328\n",
      "1400 8.061487197875977\n",
      "1500 8.050704956054688\n",
      "1600 8.035921096801758\n",
      "1700 8.052119255065918\n",
      "1800 8.047514915466309\n",
      "1900 8.048320770263672\n",
      "2000 8.078344345092773\n",
      "2100 8.038300514221191\n",
      "2200 8.033116340637207\n",
      "2300 8.030405044555664\n",
      "2400 8.018309593200684\n",
      "2500 8.024269104003906\n",
      "2600 8.029152870178223\n",
      "2700 8.010696411132812\n",
      "2800 8.008606910705566\n",
      "2900 8.026850700378418\n",
      "3000 8.025290489196777\n",
      "3100 8.012152671813965\n",
      "3200 8.004892349243164\n",
      "3300 8.025372505187988\n",
      "3400 8.003677368164062\n",
      "3500 8.018609046936035\n",
      "3600 8.00752067565918\n",
      "3700 8.008630752563477\n",
      "3800 8.00190258026123\n",
      "3900 7.999803066253662\n",
      "4000 7.996402263641357\n",
      "4100 8.011112213134766\n",
      "4200 7.999917030334473\n",
      "4300 8.006654739379883\n",
      "4400 8.009427070617676\n",
      "4500 8.00862979888916\n",
      "4600 7.9904985427856445\n",
      "4700 7.992065906524658\n",
      "4800 7.989607810974121\n",
      "4900 8.002721786499023\n",
      "5000 7.996614456176758\n",
      "5100 7.998536586761475\n",
      "5200 7.984042167663574\n",
      "5300 8.002148628234863\n",
      "5400 7.989599704742432\n",
      "5500 7.990824222564697\n",
      "5600 7.997429847717285\n",
      "5700 7.997659206390381\n",
      "5800 7.9955644607543945\n",
      "5900 8.001164436340332\n",
      "6000 8.00041389465332\n",
      "6100 7.992067337036133\n",
      "6200 8.000957489013672\n",
      "6300 7.990952968597412\n",
      "6400 7.995244979858398\n",
      "6500 7.986709117889404\n",
      "6600 7.9945526123046875\n",
      "6700 7.99093770980835\n",
      "6800 7.99873685836792\n",
      "6900 7.995264530181885\n",
      "7000 7.99412202835083\n",
      "7100 7.9880218505859375\n",
      "7200 7.996379852294922\n",
      "7300 7.987123966217041\n",
      "7400 8.000861167907715\n",
      "7500 7.9886579513549805\n",
      "7600 8.005544662475586\n",
      "7700 8.00100326538086\n",
      "7800 7.987734794616699\n",
      "7900 7.998480319976807\n",
      "8000 7.9997968673706055\n",
      "8100 7.983426570892334\n",
      "8200 7.990691184997559\n",
      "8300 7.993812084197998\n",
      "8400 7.99600076675415\n",
      "8500 7.991702556610107\n",
      "8600 7.992097854614258\n",
      "8700 7.991361141204834\n",
      "8800 7.999085903167725\n",
      "8900 8.000691413879395\n",
      "9000 7.987447261810303\n",
      "9100 7.985718727111816\n",
      "9200 7.990942001342773\n",
      "9300 7.977778434753418\n",
      "9400 7.992276191711426\n",
      "9500 8.006319999694824\n",
      "9600 7.991774082183838\n",
      "9700 7.993737697601318\n",
      "9800 7.990080833435059\n",
      "9900 7.984297275543213\n",
      "10000 7.989442825317383\n",
      "10100 7.994448184967041\n",
      "10200 8.003918647766113\n",
      "10300 7.983791351318359\n",
      "10400 7.981393337249756\n",
      "10500 7.990334987640381\n",
      "10600 7.9854230880737305\n",
      "10700 7.985639572143555\n",
      "10800 7.9905686378479\n",
      "10900 8.003213882446289\n",
      "11000 7.98179817199707\n",
      "11100 8.003576278686523\n",
      "11200 7.983285427093506\n",
      "11300 7.989715099334717\n",
      "11400 7.995153427124023\n",
      "11500 7.990051746368408\n",
      "11600 8.001913070678711\n",
      "11700 7.982714653015137\n",
      "11800 8.001405715942383\n",
      "11900 7.993717193603516\n",
      "12000 7.999385833740234\n",
      "12100 7.985898017883301\n",
      "12200 7.989285945892334\n",
      "12300 8.00300121307373\n",
      "12400 7.988455295562744\n",
      "12500 8.007155418395996\n",
      "12600 8.003082275390625\n",
      "12700 8.001294136047363\n",
      "12800 7.986205101013184\n",
      "12900 7.989723205566406\n",
      "13000 7.993247032165527\n",
      "13100 7.985114097595215\n",
      "13200 8.001185417175293\n",
      "13300 7.984495162963867\n",
      "13400 7.982236862182617\n",
      "13500 7.987838268280029\n",
      "13600 7.994390964508057\n",
      "13700 7.985607147216797\n",
      "13800 7.9940690994262695\n",
      "13900 7.99337911605835\n",
      "14000 7.982774257659912\n",
      "14100 7.983428001403809\n",
      "14200 7.981466770172119\n",
      "14300 7.985560894012451\n",
      "14400 7.984439849853516\n",
      "14500 7.992881774902344\n",
      "14600 7.989715099334717\n",
      "14700 7.982041835784912\n",
      "14800 7.995368003845215\n",
      "14900 7.983185291290283\n",
      "15000 7.987006664276123\n",
      "15100 7.990389823913574\n",
      "15200 7.989850044250488\n",
      "15300 7.998999118804932\n",
      "15400 7.979247570037842\n",
      "15500 7.989806652069092\n",
      "15600 7.996948719024658\n",
      "15700 7.980288982391357\n",
      "15800 7.986156463623047\n",
      "15900 7.983033180236816\n",
      "16000 7.992741584777832\n",
      "16100 7.987850189208984\n",
      "16200 7.98665714263916\n",
      "16300 7.983711242675781\n",
      "16400 7.995919227600098\n",
      "16500 7.997357368469238\n",
      "16600 7.983858585357666\n",
      "16700 7.9852213859558105\n",
      "16800 7.98590612411499\n",
      "16900 7.9978556632995605\n",
      "17000 7.994766712188721\n",
      "17100 7.988124370574951\n",
      "17200 7.996135711669922\n",
      "17300 7.991344928741455\n",
      "17400 7.98846960067749\n",
      "17500 7.983275413513184\n",
      "17600 7.986738204956055\n",
      "17700 7.988262176513672\n",
      "17800 7.983057498931885\n",
      "17900 8.006243705749512\n",
      "18000 7.981865406036377\n",
      "18100 7.9830427169799805\n",
      "18200 7.992164134979248\n",
      "18300 7.983194351196289\n",
      "18400 7.986221790313721\n",
      "18500 7.994163513183594\n",
      "18600 7.990101337432861\n",
      "18700 7.983520984649658\n",
      "18800 7.993585586547852\n",
      "18900 8.006765365600586\n",
      "19000 7.988752841949463\n",
      "19100 7.99049186706543\n",
      "19200 7.988917827606201\n",
      "19300 7.982139587402344\n",
      "19400 7.992300033569336\n",
      "19500 7.988883972167969\n",
      "19600 7.982851505279541\n",
      "19700 7.991523742675781\n",
      "19800 7.985861778259277\n",
      "19900 7.986954689025879\n",
      "20000 7.976362705230713\n",
      "20100 7.985867500305176\n",
      "20200 7.991755485534668\n",
      "20300 7.98688268661499\n",
      "20400 7.984335899353027\n",
      "20500 7.9907331466674805\n",
      "20600 8.006858825683594\n",
      "20700 7.988798141479492\n",
      "20800 7.989646911621094\n",
      "20900 7.991296768188477\n",
      "21000 7.9887213706970215\n",
      "21100 7.989418983459473\n",
      "21200 8.00925350189209\n",
      "21300 7.974696159362793\n",
      "21400 7.990185260772705\n",
      "21500 7.988097190856934\n",
      "21600 7.9864044189453125\n",
      "21700 7.988911151885986\n",
      "21800 7.997007846832275\n",
      "21900 7.994073390960693\n",
      "22000 7.994900226593018\n",
      "22100 7.986069202423096\n",
      "22200 7.997513294219971\n",
      "22300 8.000936508178711\n",
      "22400 7.9974894523620605\n",
      "22500 8.025197982788086\n",
      "22600 7.997840404510498\n",
      "22700 7.987551689147949\n",
      "22800 7.9849853515625\n",
      "22900 7.985859394073486\n",
      "23000 7.98604679107666\n",
      "23100 7.985544204711914\n",
      "23200 7.994050025939941\n",
      "23300 7.994059085845947\n",
      "23400 7.992607116699219\n",
      "23500 8.011605262756348\n",
      "23600 7.995055198669434\n",
      "23700 7.9821271896362305\n",
      "23800 7.990925312042236\n",
      "23900 7.982597827911377\n",
      "24000 7.982761859893799\n",
      "24100 7.99124813079834\n",
      "24200 7.99240779876709\n",
      "24300 8.024877548217773\n",
      "24400 7.9854512214660645\n",
      "24500 7.981135368347168\n",
      "24600 7.978268146514893\n",
      "24700 7.986129283905029\n",
      "24800 7.994720935821533\n",
      "24900 7.982078552246094\n",
      "25000 7.982513904571533\n",
      "25100 7.985320568084717\n",
      "25200 7.985308647155762\n",
      "25300 7.988886833190918\n",
      "25400 7.981844425201416\n",
      "25500 8.000388145446777\n",
      "25600 7.982454776763916\n",
      "25700 7.985554218292236\n",
      "25800 7.99212646484375\n",
      "25900 7.9845356941223145\n",
      "26000 7.984649181365967\n",
      "26100 7.984762668609619\n",
      "26200 7.986843109130859\n",
      "26300 7.9866814613342285\n",
      "26400 8.00790023803711\n",
      "26500 7.975024700164795\n",
      "26600 7.987738132476807\n",
      "26700 7.986074447631836\n",
      "26800 7.989859104156494\n",
      "26900 7.984917163848877\n",
      "27000 7.991091251373291\n",
      "27100 7.983288288116455\n",
      "27200 7.98222541809082\n",
      "27300 7.994163990020752\n",
      "27400 7.9885735511779785\n",
      "27500 7.986100673675537\n",
      "27600 7.984920978546143\n",
      "27700 7.989637851715088\n",
      "27800 7.985267639160156\n",
      "27900 7.991823673248291\n",
      "28000 7.986139297485352\n",
      "28100 7.994801044464111\n",
      "28200 7.979665756225586\n",
      "28300 7.986668586730957\n",
      "28400 7.992255210876465\n",
      "28500 7.9977707862854\n",
      "28600 7.995090484619141\n",
      "28700 7.987206935882568\n",
      "28800 7.986088752746582\n",
      "28900 7.985236644744873\n",
      "29000 7.984701156616211\n",
      "29100 7.980003356933594\n",
      "29200 7.978754997253418\n",
      "29300 7.989281177520752\n",
      "29400 7.988061428070068\n",
      "29500 7.98665714263916\n",
      "29600 7.990407943725586\n",
      "29700 7.985747814178467\n",
      "29800 7.987289905548096\n",
      "29900 8.021035194396973\n",
      "30000 7.984248638153076\n"
     ]
    },
    {
     "data": {
      "text/plain": [
       "1035.1797717080008"
      ]
     },
     "execution_count": 876,
     "metadata": {},
     "output_type": "execute_result"
    }
   ],
   "source": [
    "flow = NormalizingFlowInefficient()\n",
    "opt = optim.Adam(flow.parameters(), lr=2e-3)\n",
    "\n",
    "start = time.perf_counter()\n",
    "\n",
    "for i in range(1, 30001):\n",
    "    \n",
    "    _, samples_from_q_K, log_probs = flow.sample_and_return_log_prob(n=1000)\n",
    "    sample_kl = (log_probs + U(samples_from_q_K)).mean()  # monte-carlo estimate of the kl-divergence\n",
    "    \n",
    "    opt.zero_grad()\n",
    "    sample_kl.backward(retain_graph=True)  # I honestly don't understand why retain_graph=True is needed ...\n",
    "    opt.step()\n",
    "\n",
    "    if i % 100 == 0:\n",
    "        \n",
    "        print(i, float(sample_kl))\n",
    "        \n",
    "        for layer in flow.layers:\n",
    "            assert (float(layer.u @ layer.w) > -1)\n",
    "            \n",
    "end = time.perf_counter()\n",
    "end - start"
   ]
  },
  {
   "cell_type": "markdown",
   "id": "7ad88013",
   "metadata": {},
   "source": [
    "## Invertibility check"
   ]
  },
  {
   "cell_type": "code",
   "execution_count": 877,
   "id": "7d3403a7",
   "metadata": {},
   "outputs": [],
   "source": [
    "for layer in flow.layers:\n",
    "    assert (float(layer.u @ layer.w) > -1)"
   ]
  },
  {
   "cell_type": "markdown",
   "id": "243950c1",
   "metadata": {},
   "source": [
    "## Graphing"
   ]
  },
  {
   "cell_type": "code",
   "execution_count": 878,
   "id": "31fb30a2",
   "metadata": {},
   "outputs": [
    {
     "data": {
      "image/png": "[encoded data removed]",
      "text/plain": [
       "<Figure size 270x270 with 1 Axes>"
      ]
     },
     "metadata": {
      "needs_background": "light"
     },
     "output_type": "display_data"
    }
   ],
   "source": [
    "fig = plt.figure(figsize=(3.75, 3.75))\n",
    "\n",
    "_, samples_qK, _ = flow.sample_and_return_log_prob(n=int(1e6))\n",
    "samples_qK = samples_qK.detach().numpy()\n",
    "\n",
    "#samples_qK = samples_qK[np.bitwise_and(samples_qK[:,0] >= -4 , samples_qK[:,0] <= 4)]\n",
    "\n",
    "# plt.hexbin(samples_qK[:,0], samples_qK[:,1], gridsize=50, cmap=\"turbo\", extent=[-4, 4, -4, 4])\n",
    "plt.hist2d(samples_qK[:,0], samples_qK[:,1], bins=100, cmap=\"jet\", range=[[-6, 6], [-6, 6]])\n",
    "    \n",
    "plt.axis(\"off\")\n",
    "plt.gca().set_aspect('equal', adjustable='box')\n",
    "\n",
    "plt.savefig(f\"{potential}_learned_density.png\", dpi=300, bbox_inches='tight')"
   ]
  },
  {
   "cell_type": "code",
   "execution_count": 879,
   "id": "0dea5045",
   "metadata": {},
   "outputs": [],
   "source": [
    "phi = np.linspace(0, 2*np.pi, n)\n",
    "x = np.sin(phi)\n",
    "y = np.cos(phi)\n",
    "rgb_cycle = (np.stack((np.cos(phi          ), # Three sinusoids,\n",
    "                       np.cos(phi+2*np.pi/3), # 120° phase shifted,\n",
    "                       np.cos(phi-2*np.pi/3)\n",
    "                      )).T # Shape = (60,3)\n",
    "             + 1)*0.5   "
   ]
  },
  {
   "cell_type": "code",
   "execution_count": 880,
   "id": "bed00831",
   "metadata": {},
   "outputs": [
    {
     "data": {
      "image/png": "[encoded data removed]",
      "text/plain": [
       "<Figure size 360x270 with 12 Axes>"
      ]
     },
     "metadata": {},
     "output_type": "display_data"
    }
   ],
   "source": [
    "n = 10000\n",
    "\n",
    "samples_from_each_layer = flow.sample_from_each_layer(n=n)\n",
    "samples_from_each_layer = [samples.detach().numpy() for samples in samples_from_each_layer]\n",
    "\n",
    "indices = np.argsort(\n",
    "    (samples_from_each_layer[0][:,0] - float(flow.μ[0])) ** 2 + \n",
    "    (samples_from_each_layer[0][:,1] - float(flow.μ[1])) ** 2\n",
    ")\n",
    "\n",
    "fig = plt.figure(figsize=(5, 5 / 4 * 3), )\n",
    "for i, j in enumerate([0, 5, 10, 20, 30, 40, 50, 60, 70, 80, 90, 100]):\n",
    "    fig.add_subplot(3, 4, i+1)\n",
    "    plt.scatter(samples_from_each_layer[j][:,0][indices], \n",
    "                samples_from_each_layer[j][:,1][indices], \n",
    "                color=rgb_cycle,\n",
    "                s=0.01, alpha=1)\n",
    "    plt.text(-4.5, 3, f\"{j}\", size=13)\n",
    "    plt.xlim(-6, 6)\n",
    "    plt.ylim(-6, 6)\n",
    "    plt.xticks([])\n",
    "    plt.yticks([])\n",
    "fig.subplots_adjust(wspace=0, hspace=0)\n",
    "\n",
    "plt.savefig(f\"{potential}_samples_from_each_layer.png\", dpi=300, bbox_inches='tight')"
   ]
  },
  {
   "cell_type": "markdown",
   "id": "7a238eb2",
   "metadata": {},
   "source": [
    "## Unused code"
   ]
  },
  {
   "cell_type": "code",
   "execution_count": null,
   "id": "0e072911",
   "metadata": {},
   "outputs": [],
   "source": [
    "# connecting lines between points in q0 and points in qk\n",
    "\n",
    "# samples_q0, samples_qK, _ = flow.sample_and_return_log_prob(n=1000)\n",
    "# samples_q0 = samples_q0.detach().numpy()\n",
    "# samples_qK = samples_qK.detach().numpy()\n",
    "\n",
    "# for i in range(len(samples_q0)):\n",
    "#     plt.plot([samples_q0[i][0] + 5, samples_qK[i][0]], \n",
    "#              [samples_q0[i][1] + 5, samples_qK[i][1]], \n",
    "#              color=\"black\", linewidth=0.2, alpha=0.1)\n",
    "\n",
    "# plt.scatter(samples_q0[:,0] + 5, samples_q0[:,1] + 5, s=5, color=\"green\", alpha=0.1)\n",
    "# plt.scatter(samples_qK[:,0], samples_qK[:,1], s=5, color=\"red\", alpha=0.1)\n",
    "    \n",
    "# #plt.xlim(-4, 4)\n",
    "# #plt.ylim(-4, 4)\n",
    "# plt.axis(\"off\")\n",
    "# plt.gca().set_aspect('equal', adjustable='box')\n",
    "# plt.savefig(\"flow.png\", dpi=300)"
   ]
  },
  {
   "cell_type": "code",
   "execution_count": null,
   "id": "643d213c",
   "metadata": {},
   "outputs": [],
   "source": [
    "# density plot with Gaussian KDE\n",
    "\n",
    "# _, samples_qK, _ = flow.sample_and_return_log_prob(n=100000)\n",
    "# samples_qK = samples_qK.detach().numpy()\n",
    "\n",
    "# x, y = samples_qK[:,0], samples_qK[:,1]\n",
    "# nbins = 50\n",
    "# xi, yi = np.meshgrid(np.linspace(x.min(), x.max(), nbins), np.linspace(y.min(), y.max(), nbins))\n",
    "\n",
    "# k = kde.gaussian_kde(samples_qK.T, bw_method=0.02)\n",
    "# zi = k(np.vstack([xi.flatten(), yi.flatten()]))\n",
    "\n",
    "# plt.contourf(xi, yi, zi.reshape(xi.shape), levels=20, cmap=\"turbo\")\n",
    "\n",
    "# plt.xlim(-4, 4)\n",
    "# plt.ylim(-4, 4)\n",
    "# plt.axis(\"off\")\n",
    "# plt.gca().set_aspect('equal', adjustable='box')\n",
    "# plt.savefig(\"u4_density_estimated.png\", dpi=1000)"
   ]
  }
 ],
 "metadata": {
  "kernelspec": {
   "display_name": "Python 3 (ipykernel)",
   "language": "python",
   "name": "python3"
  },
  "language_info": {
   "codemirror_mode": {
    "name": "ipython",
    "version": 3
   },
   "file_extension": ".py",
   "mimetype": "text/x-python",
   "name": "python",
   "nbconvert_exporter": "python",
   "pygments_lexer": "ipython3",
   "version": "3.8.13"
  },
  "toc": {
   "base_numbering": 1,
   "nav_menu": {},
   "number_sections": false,
   "sideBar": true,
   "skip_h1_title": false,
   "title_cell": "Table of Contents",
   "title_sidebar": "Contents",
   "toc_cell": false,
   "toc_position": {},
   "toc_section_display": true,
   "toc_window_display": false
  }
 },
 "nbformat": 4,
 "nbformat_minor": 5
}
