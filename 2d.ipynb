{
 "cells": [
  {
   "cell_type": "code",
   "execution_count": 1,
   "id": "b98cdc1c",
   "metadata": {},
   "outputs": [],
   "source": [
    "import numpy as np\n",
    "from scipy.stats import kde\n",
    "\n",
    "import torch\n",
    "import torch.optim as optim\n",
    "\n",
    "import matplotlib.pyplot as plt\n",
    "import time\n",
    "\n",
    "from flow import NormalizingFlow"
   ]
  },
  {
   "cell_type": "code",
   "execution_count": 17,
   "id": "6f2fae9a",
   "metadata": {},
   "outputs": [
    {
     "name": "stdout",
     "output_type": "stream",
     "text": [
      "tensor([True, True, True, True, True, True, True, True, True, True, True, True,\n",
      "        True, True, True, True, True, True, True, True, True, True, True, True,\n",
      "        True, True, True, True, True, True, True, True, True, True, True, True,\n",
      "        True, True, True, True, True, True, True, True, True, True, True, True,\n",
      "        True, True, True, True, True, True, True, True, True, True, True, True,\n",
      "        True, True, True, True, True, True, True, True, True, True, True, True,\n",
      "        True, True, True, True, True, True, True, True, True, True, True, True,\n",
      "        True, True, True, True, True, True, True, True, True, True, True, True,\n",
      "        True, True, True, True])\n"
     ]
    }
   ],
   "source": [
    "flow = NormalizingFlow()\n",
    "torch.manual_seed(42)\n",
    "_, log_prob_1 = flow.sample(n=100, efficient=False)\n",
    "torch.manual_seed(42)\n",
    "_, log_prob_2 = flow.sample(n=100, efficient=True)\n",
    "print(torch.eq(log_prob_1, log_prob_2))"
   ]
  },
  {
   "cell_type": "markdown",
   "id": "3e5f552d",
   "metadata": {},
   "source": [
    "## Potential function"
   ]
  },
  {
   "cell_type": "markdown",
   "id": "68921b6b",
   "metadata": {},
   "source": [
    "### My custom potential function"
   ]
  },
  {
   "cell_type": "code",
   "execution_count": 3,
   "id": "7c4df45f",
   "metadata": {},
   "outputs": [],
   "source": [
    "def U_with_argument(z, angle, distance):\n",
    "    rotational_matrix = torch.Tensor([\n",
    "        [torch.cos(torch.tensor(angle)), -torch.sin(torch.tensor(angle))],\n",
    "        [torch.sin(torch.tensor(angle)), torch.cos(torch.tensor(angle))]\n",
    "    ])\n",
    "    z = (rotational_matrix @ z.T).T\n",
    "    term1 = 0.5 * ((torch.sqrt(z[:,0] ** 2 + z[:,1] ** 2) - distance) / 0.4) ** 2\n",
    "    term2 = torch.log(\n",
    "        torch.exp(-0.5 * ((z[:,0] - distance) / 0.6) ** 2) + \n",
    "        torch.exp(-0.5 * ((z[:,0] + distance) / 0.6) ** 2) + \n",
    "        1e-5\n",
    "    )\n",
    "    return (term1 - term2)"
   ]
  },
  {
   "cell_type": "code",
   "execution_count": 4,
   "id": "c0fea177",
   "metadata": {},
   "outputs": [],
   "source": [
    "def U_eight(z):\n",
    "    return U_with_argument(z, torch.pi/4, 3) + \\\n",
    "           U_with_argument(z, torch.pi / 2 + torch.pi/4, 3) + \\\n",
    "           U_with_argument(z, 0, 3) + \\\n",
    "           U_with_argument(z, torch.pi / 2, 3)"
   ]
  },
  {
   "cell_type": "markdown",
   "id": "d4ba913a",
   "metadata": {},
   "source": [
    "### Other potential functions from paper"
   ]
  },
  {
   "cell_type": "code",
   "execution_count": 5,
   "id": "98e61c8e",
   "metadata": {},
   "outputs": [],
   "source": [
    "def w1(z): return torch.sin(2 * torch.pi * z[:, 0] / 4)                 \n",
    "def w2(z): return 3 * torch.exp(-0.5 * ((z[:, 0] - 1) / 0.5) ** 2)\n",
    "def σ(x): return 1 / (1 + torch.exp(-x))\n",
    "def w3(z): return 3 * σ((z[:, 0] - 1) / 0.3)"
   ]
  },
  {
   "cell_type": "code",
   "execution_count": 6,
   "id": "91244e26",
   "metadata": {},
   "outputs": [],
   "source": [
    "def taper(z):\n",
    "    return torch.sigmoid(\n",
    "        ( 5 - torch.linalg.vector_norm(z, dim=1, ord=np.inf) ) * 10\n",
    "    )"
   ]
  },
  {
   "cell_type": "code",
   "execution_count": 7,
   "id": "2df52c4d",
   "metadata": {},
   "outputs": [],
   "source": [
    "def add_taper(potential):\n",
    "    def new_potential(z):\n",
    "        # so density is exp(-potential(z) + log(taper(z))) = exp(-potential(z)) * taper(z)\n",
    "        return potential(z) - torch.log(taper(z))  \n",
    "    return new_potential"
   ]
  },
  {
   "cell_type": "code",
   "execution_count": 8,
   "id": "cef786c2",
   "metadata": {},
   "outputs": [],
   "source": [
    "def U1(z):\n",
    "    part_1 = (1/2) * ((torch.sqrt(z[:,0] ** 2 + z[:,1]**2) - 2) / 0.4) ** 2\n",
    "    part_2 = torch.log(\n",
    "        torch.exp(-0.5 * ((z[:,0] - 2) / 0.6) ** 2) + \n",
    "        torch.exp(-0.5 * ((z[:,0] + 2) / 0.6) ** 2)\n",
    "    )\n",
    "    return (part_1 - part_2)"
   ]
  },
  {
   "cell_type": "code",
   "execution_count": 9,
   "id": "b83a6db6",
   "metadata": {},
   "outputs": [],
   "source": [
    "@add_taper\n",
    "def U2(z):\n",
    "    return ((1/2) * ((z[:,1] - w1(z)) / 0.4) ** 2)"
   ]
  },
  {
   "cell_type": "code",
   "execution_count": 10,
   "id": "c5a68f13",
   "metadata": {},
   "outputs": [],
   "source": [
    "@add_taper\n",
    "def U3(z):\n",
    "    return - torch.log(\n",
    "        torch.exp(-0.5 * ((z[:, 1] - w1(z)) / 0.35) ** 2) + \n",
    "        torch.exp(-0.5 * ((z[:, 1] - w1(z) + w2(z)) / 0.35) ** 2)\n",
    "    )"
   ]
  },
  {
   "cell_type": "code",
   "execution_count": 11,
   "id": "b8b7bb66",
   "metadata": {},
   "outputs": [],
   "source": [
    "@add_taper\n",
    "def U4(z):\n",
    "    return - torch.log(\n",
    "        torch.exp(-0.5 * ((z[:, 1] - w1(z)) / 0.34) ** 2) + \n",
    "        torch.exp(-0.5 * ((z[:, 1] - w1(z) + w3(z)) / 0.35) ** 2)\n",
    "    )"
   ]
  },
  {
   "cell_type": "markdown",
   "id": "6312996a",
   "metadata": {},
   "source": [
    "## Choosing a potential function"
   ]
  },
  {
   "cell_type": "code",
   "execution_count": 12,
   "id": "b215c8a7",
   "metadata": {},
   "outputs": [],
   "source": [
    "potential = \"U1\"\n",
    "\n",
    "if potential == \"U1\":\n",
    "    U = U1\n",
    "elif potential == \"U2\":\n",
    "    U = U2\n",
    "elif potential == \"U3\":\n",
    "    U = U3\n",
    "elif potential == \"U4\":\n",
    "    U = U4\n",
    "elif potential == \"U8\":\n",
    "    U = U_eight"
   ]
  },
  {
   "cell_type": "markdown",
   "id": "7f8ba460",
   "metadata": {},
   "source": [
    "## Graphing potential function"
   ]
  },
  {
   "cell_type": "code",
   "execution_count": 13,
   "id": "41156817",
   "metadata": {
    "scrolled": true
   },
   "outputs": [
    {
     "name": "stderr",
     "output_type": "stream",
     "text": [
      "/Users/zhihanyang/opt/miniconda3/envs/mlp/lib/python3.8/site-packages/torch/functional.py:504: UserWarning: torch.meshgrid: in an upcoming release, it will be required to pass the indexing argument. (Triggered internally at /Users/runner/work/pytorch/pytorch/pytorch/aten/src/ATen/native/TensorShape.cpp:3484.)\n",
      "  return _VF.meshgrid(tensors, **kwargs)  # type: ignore[attr-defined]\n"
     ]
    },
    {
     "data": {
      "image/png": "[encoded data removed]",
      "text/plain": [
       "<Figure size 270x270 with 1 Axes>"
      ]
     },
     "metadata": {
      "needs_background": "light"
     },
     "output_type": "display_data"
    }
   ],
   "source": [
    "fig = plt.figure(figsize=(3.75, 3.75))\n",
    "\n",
    "xs = torch.linspace(-6, 6, 100)\n",
    "xxs, yys = torch.meshgrid(xs, xs)\n",
    "xxs2, yys2 = xxs.reshape(-1, 1), yys.reshape(-1, 1)\n",
    "unnorm_p = torch.exp(- U(torch.hstack([xxs2, yys2]))) #* decay(torch.hstack([xxs2, yys2]))\n",
    "\n",
    "plt.contourf(xxs.numpy(), yys.numpy(), unnorm_p.reshape(100, 100).numpy(), levels=100, cmap=\"jet\")\n",
    "plt.xlim(-6, 6)\n",
    "plt.ylim(-6, 6)\n",
    "plt.axis(\"off\")\n",
    "plt.gca().set_aspect('equal', adjustable='box')\n",
    "plt.savefig(f\"imgs/{potential}_true_density.png\", dpi=300, bbox_inches='tight')"
   ]
  },
  {
   "cell_type": "markdown",
   "id": "b8c1045f",
   "metadata": {},
   "source": [
    "## Training"
   ]
  },
  {
   "cell_type": "code",
   "execution_count": 15,
   "id": "70a02729",
   "metadata": {},
   "outputs": [
    {
     "name": "stdout",
     "output_type": "stream",
     "text": [
      "100 -1.4848905801773071\n",
      "200 -1.7753325700759888\n",
      "300 -1.7861487865447998\n",
      "400 -1.8480305671691895\n",
      "500 -1.8549121618270874\n",
      "600 -1.8642522096633911\n",
      "700 -1.8722230195999146\n",
      "800 -1.8679053783416748\n",
      "900 -1.8520058393478394\n",
      "1000 -1.8528852462768555\n"
     ]
    },
    {
     "data": {
      "text/plain": [
       "32.38262333299999"
      ]
     },
     "execution_count": 15,
     "metadata": {},
     "output_type": "execute_result"
    }
   ],
   "source": [
    "flow = NormalizingFlow()\n",
    "opt = optim.Adam(flow.parameters(), lr=2e-3)\n",
    "\n",
    "start = time.perf_counter()\n",
    "\n",
    "samples_kls = []\n",
    "\n",
    "for i in range(1, 10001):\n",
    "    \n",
    "    samples_from_q_K, log_probs = flow.sample(n=1000, efficient=True)\n",
    "    sample_kl = (log_probs + U(samples_from_q_K)).mean()  # monte-carlo estimate of the kl-divergence\n",
    "    samples_kls.append(float(sample_kl))\n",
    "    \n",
    "    opt.zero_grad()\n",
    "    sample_kl.backward(retain_graph=True)  # I honestly don't understand why retain_graph=True is needed ...\n",
    "    opt.step()\n",
    "\n",
    "    if i % 100 == 0:\n",
    "        \n",
    "        print(i, float(sample_kl))\n",
    "        \n",
    "        for layer in flow.layers:\n",
    "            assert (float(layer.u @ layer.w) > -1)\n",
    "            \n",
    "end = time.perf_counter()\n",
    "end - start"
   ]
  },
  {
   "cell_type": "code",
   "execution_count": 59,
   "id": "328dee42",
   "metadata": {},
   "outputs": [
    {
     "data": {
      "image/png": "[encoded data removed]",
      "text/plain": [
       "<Figure size 270x270 with 1 Axes>"
      ]
     },
     "metadata": {
      "needs_background": "light"
     },
     "output_type": "display_data"
    }
   ],
   "source": [
    "fig = plt.figure(figsize=(3.75, 3.75))\n",
    "plt.plot(samples_kls)\n",
    "plt.savefig(f\"imgs/{potential}_kl_over_time.png\", dpi=300, bbox_inches='tight')"
   ]
  },
  {
   "cell_type": "markdown",
   "id": "7ad88013",
   "metadata": {},
   "source": [
    "## Invertibility check"
   ]
  },
  {
   "cell_type": "code",
   "execution_count": 18,
   "id": "7d3403a7",
   "metadata": {},
   "outputs": [],
   "source": [
    "for layer in flow.layers:\n",
    "    assert (float(layer.u @ layer.w) > -1)"
   ]
  },
  {
   "cell_type": "markdown",
   "id": "243950c1",
   "metadata": {},
   "source": [
    "## Graphing"
   ]
  },
  {
   "cell_type": "code",
   "execution_count": 61,
   "id": "31fb30a2",
   "metadata": {},
   "outputs": [
    {
     "data": {
      "image/png": "[encoded data removed]",
      "text/plain": [
       "<Figure size 270x270 with 1 Axes>"
      ]
     },
     "metadata": {
      "needs_background": "light"
     },
     "output_type": "display_data"
    }
   ],
   "source": [
    "fig = plt.figure(figsize=(3.75, 3.75))\n",
    "\n",
    "samples_qK, _ = flow.sample_and_return_log_prob(n=int(1e6))\n",
    "samples_qK = samples_qK.detach().numpy()\n",
    "\n",
    "#samples_qK = samples_qK[np.bitwise_and(samples_qK[:,0] >= -4 , samples_qK[:,0] <= 4)]\n",
    "\n",
    "# plt.hexbin(samples_qK[:,0], samples_qK[:,1], gridsize=50, cmap=\"turbo\", extent=[-4, 4, -4, 4])\n",
    "plt.hist2d(samples_qK[:,0], samples_qK[:,1], bins=100, cmap=\"jet\", range=[[-6, 6], [-6, 6]])\n",
    "    \n",
    "plt.axis(\"off\")\n",
    "plt.gca().set_aspect('equal', adjustable='box')\n",
    "\n",
    "plt.savefig(f\"imgs/{potential}_learned_density.png\", dpi=300, bbox_inches='tight')"
   ]
  },
  {
   "cell_type": "code",
   "execution_count": 62,
   "id": "b21715a9",
   "metadata": {},
   "outputs": [],
   "source": [
    "n = 10000"
   ]
  },
  {
   "cell_type": "code",
   "execution_count": 63,
   "id": "0dea5045",
   "metadata": {},
   "outputs": [],
   "source": [
    "# copied from stackoverflow\n",
    "phi = np.linspace(0, 2*np.pi, n)\n",
    "x = np.sin(phi)\n",
    "y = np.cos(phi)\n",
    "rgb_cycle = (np.stack((np.cos(phi          ), # Three sinusoids,\n",
    "                       np.cos(phi+2*np.pi/3), # 120° phase shifted,\n",
    "                       np.cos(phi-2*np.pi/3)\n",
    "                      )).T # Shape = (60,3)\n",
    "             + 1)*0.5   "
   ]
  },
  {
   "cell_type": "code",
   "execution_count": 64,
   "id": "bed00831",
   "metadata": {},
   "outputs": [
    {
     "data": {
      "image/png": "[encoded data removed]",
      "text/plain": [
       "<Figure size 360x270 with 12 Axes>"
      ]
     },
     "metadata": {},
     "output_type": "display_data"
    }
   ],
   "source": [
    "samples_from_each_layer = flow.sample_from_each_layer(n=n)\n",
    "samples_from_each_layer = [samples.detach().numpy() for samples in samples_from_each_layer]\n",
    "\n",
    "indices = np.argsort(\n",
    "    (samples_from_each_layer[0][:,0] - float(flow.μ[0])) ** 2 + \n",
    "    (samples_from_each_layer[0][:,1] - float(flow.μ[1])) ** 2\n",
    ")\n",
    "\n",
    "fig = plt.figure(figsize=(5, 5 / 4 * 3), )\n",
    "for i, j in enumerate([0, 5, 10, 20, 30, 40, 50, 60, 70, 80, 90, 100]):\n",
    "    fig.add_subplot(3, 4, i+1)\n",
    "    plt.scatter(samples_from_each_layer[j][:,0][indices], \n",
    "                samples_from_each_layer[j][:,1][indices], \n",
    "                color=rgb_cycle,\n",
    "                s=0.01, alpha=1)\n",
    "    plt.text(-4.5, 3, f\"{j}\", size=13)\n",
    "    plt.xlim(-6, 6)\n",
    "    plt.ylim(-6, 6)\n",
    "    plt.xticks([])\n",
    "    plt.yticks([])\n",
    "fig.subplots_adjust(wspace=0, hspace=0)\n",
    "\n",
    "plt.savefig(f\"imgs/{potential}_samples_from_each_layer.png\", dpi=300, bbox_inches='tight')"
   ]
  },
  {
   "cell_type": "markdown",
   "id": "7a238eb2",
   "metadata": {},
   "source": [
    "## Unused code"
   ]
  },
  {
   "cell_type": "code",
   "execution_count": null,
   "id": "0e072911",
   "metadata": {},
   "outputs": [],
   "source": [
    "# connecting lines between points in q0 and points in qk\n",
    "\n",
    "# samples_q0, samples_qK, _ = flow.sample_and_return_log_prob(n=1000)\n",
    "# samples_q0 = samples_q0.detach().numpy()\n",
    "# samples_qK = samples_qK.detach().numpy()\n",
    "\n",
    "# for i in range(len(samples_q0)):\n",
    "#     plt.plot([samples_q0[i][0] + 5, samples_qK[i][0]], \n",
    "#              [samples_q0[i][1] + 5, samples_qK[i][1]], \n",
    "#              color=\"black\", linewidth=0.2, alpha=0.1)\n",
    "\n",
    "# plt.scatter(samples_q0[:,0] + 5, samples_q0[:,1] + 5, s=5, color=\"green\", alpha=0.1)\n",
    "# plt.scatter(samples_qK[:,0], samples_qK[:,1], s=5, color=\"red\", alpha=0.1)\n",
    "    \n",
    "# #plt.xlim(-4, 4)\n",
    "# #plt.ylim(-4, 4)\n",
    "# plt.axis(\"off\")\n",
    "# plt.gca().set_aspect('equal', adjustable='box')\n",
    "# plt.savefig(\"flow.png\", dpi=300)"
   ]
  },
  {
   "cell_type": "code",
   "execution_count": null,
   "id": "643d213c",
   "metadata": {},
   "outputs": [],
   "source": [
    "# density plot with Gaussian KDE\n",
    "\n",
    "# _, samples_qK, _ = flow.sample_and_return_log_prob(n=100000)\n",
    "# samples_qK = samples_qK.detach().numpy()\n",
    "\n",
    "# x, y = samples_qK[:,0], samples_qK[:,1]\n",
    "# nbins = 50\n",
    "# xi, yi = np.meshgrid(np.linspace(x.min(), x.max(), nbins), np.linspace(y.min(), y.max(), nbins))\n",
    "\n",
    "# k = kde.gaussian_kde(samples_qK.T, bw_method=0.02)\n",
    "# zi = k(np.vstack([xi.flatten(), yi.flatten()]))\n",
    "\n",
    "# plt.contourf(xi, yi, zi.reshape(xi.shape), levels=20, cmap=\"turbo\")\n",
    "\n",
    "# plt.xlim(-4, 4)\n",
    "# plt.ylim(-4, 4)\n",
    "# plt.axis(\"off\")\n",
    "# plt.gca().set_aspect('equal', adjustable='box')\n",
    "# plt.savefig(\"u4_density_estimated.png\", dpi=1000)"
   ]
  }
 ],
 "metadata": {
  "kernelspec": {
   "display_name": "Python 3 (ipykernel)",
   "language": "python",
   "name": "python3"
  },
  "language_info": {
   "codemirror_mode": {
    "name": "ipython",
    "version": 3
   },
   "file_extension": ".py",
   "mimetype": "text/x-python",
   "name": "python",
   "nbconvert_exporter": "python",
   "pygments_lexer": "ipython3",
   "version": "3.8.13"
  },
  "toc": {
   "base_numbering": 1,
   "nav_menu": {},
   "number_sections": false,
   "sideBar": true,
   "skip_h1_title": false,
   "title_cell": "Table of Contents",
   "title_sidebar": "Contents",
   "toc_cell": false,
   "toc_position": {},
   "toc_section_display": true,
   "toc_window_display": false
  }
 },
 "nbformat": 4,
 "nbformat_minor": 5
}
