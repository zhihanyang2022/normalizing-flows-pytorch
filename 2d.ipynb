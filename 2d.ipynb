{
 "cells": [
  {
   "cell_type": "code",
   "execution_count": 1,
   "id": "b98cdc1c",
   "metadata": {},
   "outputs": [],
   "source": [
    "import numpy as np\n",
    "from scipy.stats import kde\n",
    "\n",
    "import torch\n",
    "import torch.nn as nn\n",
    "import torch.optim as optim\n",
    "import torch.distributions as dst\n",
    "from torch.autograd.functional import jacobian\n",
    "\n",
    "import matplotlib.pyplot as plt\n",
    "import time"
   ]
  },
  {
   "cell_type": "code",
   "execution_count": 2,
   "id": "a494a4b7",
   "metadata": {},
   "outputs": [],
   "source": [
    "class PlanarFlow(nn.Module):\n",
    "\n",
    "    def __init__(self, D):\n",
    "        super().__init__()\n",
    "        self.w = nn.Parameter(data=torch.randn(D, 1))\n",
    "        self.u = nn.Parameter(data=torch.zeros(1, D))\n",
    "        self.b = nn.Parameter(data=torch.randn(1, 1))\n",
    "        \n",
    "    #@property\n",
    "    #def u_hat(self):\n",
    "    #    w = self.w.detach()\n",
    "    #    w_dot_u = self.u @ w\n",
    "    #    return self.u + (-1 + torch.log(1 + torch.exp(w_dot_u)) - w_dot_u) * (w.T) / (torch.norm(w)) ** 2\n",
    "        \n",
    "    def forward(self, z):\n",
    "        return z + self.u * torch.tanh(z @ self.w + self.b)"
   ]
  },
  {
   "cell_type": "code",
   "execution_count": 3,
   "id": "a6ac92a7",
   "metadata": {},
   "outputs": [],
   "source": [
    "def batch_jacobian(f, x):\n",
    "    f_sum = lambda x: torch.sum(f(x), axis=0)\n",
    "    return jacobian(f_sum, x, create_graph=True).permute(1,0,2)"
   ]
  },
  {
   "cell_type": "code",
   "execution_count": 4,
   "id": "8770368b",
   "metadata": {},
   "outputs": [],
   "source": [
    "#def easy_func(xs):\n",
    "#    return xs @ torch.tensor([[3., 4.], [5., 6.]])\n",
    "\n",
    "# batch_jacobian(easy_func, torch.randn(100, 2))\n",
    "#torch.linalg.slogdet(batch_jacobian(easy_func, torch.randn(100, 2)))"
   ]
  },
  {
   "cell_type": "code",
   "execution_count": 6,
   "id": "f2ad9ef4",
   "metadata": {},
   "outputs": [],
   "source": [
    "class NormalizingFlowInefficient(nn.Module):\n",
    "    \n",
    "    def __init__(self, D=2, K=100):\n",
    "        super().__init__()\n",
    "        self.μ = nn.Parameter(torch.zeros(D, ))\n",
    "        self.pre_σ = nn.Parameter(data=torch.zeros(D, ))\n",
    "        self.q_0 = dst.multivariate_normal.MultivariateNormal(self.μ, torch.eye(D) * torch.exp(self.pre_σ))\n",
    "        self.layers = [PlanarFlow(D) for _ in range(K)]\n",
    "        self.transformation = nn.Sequential(*self.layers)\n",
    "        \n",
    "    def sample_from_each_layer(self, n):\n",
    "        z_0 = self.q_0.sample(sample_shape=(n, ))\n",
    "        zs = [z_0]\n",
    "        z = z_0\n",
    "        for layer in self.layers:\n",
    "            z = layer(z)\n",
    "            zs.append(z)\n",
    "        return zs\n",
    "    \n",
    "    def sample_and_return_log_prob(self, n):\n",
    "        z_0 = self.q_0.rsample(sample_shape=(n, ))  # use rsample so that we can train self.μ and self.pre_σ\n",
    "        logabsdet = torch.linalg.slogdet(batch_jacobian(self.transformation, z_0))[1]\n",
    "        z_K = self.transformation(z_0)\n",
    "        return z_K, self.q_0.log_prob(z_0) - logabsdet"
   ]
  },
  {
   "cell_type": "markdown",
   "id": "3e5f552d",
   "metadata": {},
   "source": [
    "## Potential function"
   ]
  },
  {
   "cell_type": "markdown",
   "id": "68921b6b",
   "metadata": {},
   "source": [
    "### My custom potential function"
   ]
  },
  {
   "cell_type": "code",
   "execution_count": 7,
   "id": "7c4df45f",
   "metadata": {},
   "outputs": [],
   "source": [
    "def U_with_argument(z, angle, distance):\n",
    "    rotational_matrix = torch.Tensor([\n",
    "        [torch.cos(torch.tensor(angle)), -torch.sin(torch.tensor(angle))],\n",
    "        [torch.sin(torch.tensor(angle)), torch.cos(torch.tensor(angle))]\n",
    "    ])\n",
    "    z = (rotational_matrix @ z.T).T\n",
    "    term1 = 0.5 * ((torch.sqrt(z[:,0] ** 2 + z[:,1] ** 2) - distance) / 0.4) ** 2\n",
    "    term2 = torch.log(\n",
    "        torch.exp(-0.5 * ((z[:,0] - distance) / 0.6) ** 2) + \n",
    "        torch.exp(-0.5 * ((z[:,0] + distance) / 0.6) ** 2) + \n",
    "        1e-5\n",
    "    )\n",
    "    return (term1 - term2)"
   ]
  },
  {
   "cell_type": "code",
   "execution_count": 8,
   "id": "c0fea177",
   "metadata": {},
   "outputs": [],
   "source": [
    "def U_eight(z):\n",
    "    return U_with_argument(z, torch.pi/4, 3) + \\\n",
    "           U_with_argument(z, torch.pi / 2 + torch.pi/4, 3) + \\\n",
    "           U_with_argument(z, 0, 3) + \\\n",
    "           U_with_argument(z, torch.pi / 2, 3)"
   ]
  },
  {
   "cell_type": "markdown",
   "id": "d4ba913a",
   "metadata": {},
   "source": [
    "### Other potential functions from paper"
   ]
  },
  {
   "cell_type": "code",
   "execution_count": 9,
   "id": "98e61c8e",
   "metadata": {},
   "outputs": [],
   "source": [
    "def w1(z): return torch.sin(2 * torch.pi * z[:, 0] / 4)                 \n",
    "def w2(z): return 3 * torch.exp(-0.5 * ((z[:, 0] - 1) / 0.5) ** 2)\n",
    "def σ(x): return 1 / (1 + torch.exp(-x))\n",
    "def w3(z): return 3 * σ((z[:, 0] - 1) / 0.3)"
   ]
  },
  {
   "cell_type": "code",
   "execution_count": 10,
   "id": "91244e26",
   "metadata": {},
   "outputs": [],
   "source": [
    "def taper(z):\n",
    "    return torch.sigmoid(\n",
    "        ( 5 - torch.linalg.vector_norm(z, dim=1, ord=np.inf) ) * 10\n",
    "    )"
   ]
  },
  {
   "cell_type": "code",
   "execution_count": 11,
   "id": "2df52c4d",
   "metadata": {},
   "outputs": [],
   "source": [
    "def add_taper(potential):\n",
    "    def new_potential(z):\n",
    "        # so density is exp(-potential(z) + log(taper(z))) = exp(-potential(z)) * taper(z)\n",
    "        return potential(z) - torch.log(taper(z))  \n",
    "    return new_potential"
   ]
  },
  {
   "cell_type": "code",
   "execution_count": 12,
   "id": "cef786c2",
   "metadata": {},
   "outputs": [],
   "source": [
    "def U1(z):\n",
    "    part_1 = (1/2) * ((torch.sqrt(z[:,0] ** 2 + z[:,1]**2) - 2) / 0.4) ** 2\n",
    "    part_2 = torch.log(\n",
    "        torch.exp(-0.5 * ((z[:,0] - 2) / 0.6) ** 2) + \n",
    "        torch.exp(-0.5 * ((z[:,0] + 2) / 0.6) ** 2)\n",
    "    )\n",
    "    return (part_1 - part_2)"
   ]
  },
  {
   "cell_type": "code",
   "execution_count": 13,
   "id": "b83a6db6",
   "metadata": {},
   "outputs": [],
   "source": [
    "@add_taper\n",
    "def U2(z):\n",
    "    return ((1/2) * ((z[:,1] - w1(z)) / 0.4) ** 2)"
   ]
  },
  {
   "cell_type": "code",
   "execution_count": 14,
   "id": "c5a68f13",
   "metadata": {},
   "outputs": [],
   "source": [
    "@add_taper\n",
    "def U3(z):\n",
    "    return - torch.log(\n",
    "        torch.exp(-0.5 * ((z[:, 1] - w1(z)) / 0.35) ** 2) + \n",
    "        torch.exp(-0.5 * ((z[:, 1] - w1(z) + w2(z)) / 0.35) ** 2)\n",
    "    )"
   ]
  },
  {
   "cell_type": "code",
   "execution_count": 15,
   "id": "b8b7bb66",
   "metadata": {},
   "outputs": [],
   "source": [
    "@add_taper\n",
    "def U4(z):\n",
    "    return - torch.log(\n",
    "        torch.exp(-0.5 * ((z[:, 1] - w1(z)) / 0.34) ** 2) + \n",
    "        torch.exp(-0.5 * ((z[:, 1] - w1(z) + w3(z)) / 0.35) ** 2)\n",
    "    )"
   ]
  },
  {
   "cell_type": "markdown",
   "id": "6312996a",
   "metadata": {},
   "source": [
    "## Choosing a potential function"
   ]
  },
  {
   "cell_type": "code",
   "execution_count": 56,
   "id": "b215c8a7",
   "metadata": {},
   "outputs": [],
   "source": [
    "potential = \"U8\"\n",
    "\n",
    "if potential == \"U1\":\n",
    "    U = U1\n",
    "elif potential == \"U2\":\n",
    "    U = U2\n",
    "elif potential == \"U3\":\n",
    "    U = U3\n",
    "elif potential == \"U4\":\n",
    "    U = U4\n",
    "elif potential == \"U8\":\n",
    "    U = U_eight"
   ]
  },
  {
   "cell_type": "markdown",
   "id": "7f8ba460",
   "metadata": {},
   "source": [
    "## Graphing potential function"
   ]
  },
  {
   "cell_type": "code",
   "execution_count": 57,
   "id": "41156817",
   "metadata": {
    "scrolled": true
   },
   "outputs": [
    {
     "data": {
      "image/png": "[encoded data removed]",
      "text/plain": [
       "<Figure size 270x270 with 1 Axes>"
      ]
     },
     "metadata": {
      "needs_background": "light"
     },
     "output_type": "display_data"
    }
   ],
   "source": [
    "fig = plt.figure(figsize=(3.75, 3.75))\n",
    "\n",
    "xs = torch.linspace(-6, 6, 100)\n",
    "xxs, yys = torch.meshgrid(xs, xs)\n",
    "xxs2, yys2 = xxs.reshape(-1, 1), yys.reshape(-1, 1)\n",
    "unnorm_p = torch.exp(- U(torch.hstack([xxs2, yys2]))) #* decay(torch.hstack([xxs2, yys2]))\n",
    "\n",
    "plt.contourf(xxs.numpy(), yys.numpy(), unnorm_p.reshape(100, 100).numpy(), levels=100, cmap=\"jet\")\n",
    "plt.xlim(-6, 6)\n",
    "plt.ylim(-6, 6)\n",
    "plt.axis(\"off\")\n",
    "plt.gca().set_aspect('equal', adjustable='box')\n",
    "plt.savefig(f\"imgs/{potential}_true_density.png\", dpi=300, bbox_inches='tight')"
   ]
  },
  {
   "cell_type": "markdown",
   "id": "b8c1045f",
   "metadata": {},
   "source": [
    "## Training"
   ]
  },
  {
   "cell_type": "code",
   "execution_count": 58,
   "id": "70a02729",
   "metadata": {},
   "outputs": [
    {
     "name": "stdout",
     "output_type": "stream",
     "text": [
      "100 14.11305046081543\n",
      "200 9.766918182373047\n",
      "300 9.128808975219727\n",
      "400 8.840238571166992\n",
      "500 8.686732292175293\n",
      "600 8.531816482543945\n",
      "700 8.461724281311035\n",
      "800 8.370423316955566\n",
      "900 8.24551773071289\n",
      "1000 8.248028755187988\n",
      "1100 8.15176010131836\n",
      "1200 8.12025260925293\n",
      "1300 8.109273910522461\n",
      "1400 8.13343334197998\n",
      "1500 8.088345527648926\n",
      "1600 8.038629531860352\n",
      "1700 8.084189414978027\n",
      "1800 8.08082103729248\n",
      "1900 8.027905464172363\n",
      "2000 8.069428443908691\n",
      "2100 8.070399284362793\n",
      "2200 8.032126426696777\n",
      "2300 8.04970932006836\n",
      "2400 8.008418083190918\n",
      "2500 8.043006896972656\n",
      "2600 8.040672302246094\n",
      "2700 8.010873794555664\n",
      "2800 8.011640548706055\n",
      "2900 8.013185501098633\n",
      "3000 8.032820701599121\n",
      "3100 8.01600170135498\n",
      "3200 8.017193794250488\n",
      "3300 8.023183822631836\n",
      "3400 8.040796279907227\n",
      "3500 8.013246536254883\n",
      "3600 8.042202949523926\n",
      "3700 8.01651382446289\n",
      "3800 8.020994186401367\n",
      "3900 8.04154109954834\n",
      "4000 8.035249710083008\n",
      "4100 8.020912170410156\n",
      "4200 8.01683235168457\n",
      "4300 8.025106430053711\n",
      "4400 8.015095710754395\n",
      "4500 8.026395797729492\n",
      "4600 8.043743133544922\n",
      "4700 8.046797752380371\n",
      "4800 8.006376266479492\n",
      "4900 7.989578723907471\n",
      "5000 7.999334335327148\n",
      "5100 7.999879360198975\n",
      "5200 8.00709056854248\n",
      "5300 8.003643035888672\n",
      "5400 8.019546508789062\n",
      "5500 8.003954887390137\n",
      "5600 8.017788887023926\n",
      "5700 8.000271797180176\n",
      "5800 7.99928617477417\n",
      "5900 8.023649215698242\n",
      "6000 8.006887435913086\n",
      "6100 8.01343059539795\n",
      "6200 7.995655059814453\n",
      "6300 8.009491920471191\n",
      "6400 7.979093551635742\n",
      "6500 7.992955684661865\n",
      "6600 7.999789237976074\n",
      "6700 7.984546661376953\n",
      "6800 7.990789413452148\n",
      "6900 7.998485088348389\n",
      "7000 7.987167835235596\n",
      "7100 7.99471378326416\n",
      "7200 7.990420341491699\n",
      "7300 7.990612506866455\n",
      "7400 7.990192890167236\n",
      "7500 7.987534523010254\n",
      "7600 7.990006923675537\n",
      "7700 7.994065761566162\n",
      "7800 7.989279270172119\n",
      "7900 7.990434646606445\n",
      "8000 7.987473011016846\n",
      "8100 7.9927077293396\n",
      "8200 8.077906608581543\n",
      "8300 8.036145210266113\n",
      "8400 7.994478702545166\n",
      "8500 7.995421886444092\n",
      "8600 7.999297142028809\n",
      "8700 7.994702339172363\n",
      "8800 7.997923851013184\n",
      "8900 8.00008487701416\n",
      "9000 7.9979567527771\n",
      "9100 7.993531227111816\n",
      "9200 7.987753391265869\n",
      "9300 7.980606555938721\n",
      "9400 7.98592472076416\n",
      "9500 7.995508670806885\n",
      "9600 7.98491907119751\n",
      "9700 7.991368770599365\n",
      "9800 7.982873916625977\n",
      "9900 7.997866630554199\n",
      "10000 7.993993282318115\n"
     ]
    },
    {
     "data": {
      "text/plain": [
       "413.1501391669999"
      ]
     },
     "execution_count": 58,
     "metadata": {},
     "output_type": "execute_result"
    }
   ],
   "source": [
    "flow = NormalizingFlowInefficient()\n",
    "opt = optim.Adam(flow.parameters(), lr=2e-3)\n",
    "\n",
    "start = time.perf_counter()\n",
    "\n",
    "samples_kls = []\n",
    "\n",
    "for i in range(1, 10001):\n",
    "    \n",
    "    samples_from_q_K, log_probs = flow.sample_and_return_log_prob(n=1000)\n",
    "    sample_kl = (log_probs + U(samples_from_q_K)).mean()  # monte-carlo estimate of the kl-divergence\n",
    "    samples_kls.append(float(sample_kl))\n",
    "    \n",
    "    opt.zero_grad()\n",
    "    sample_kl.backward(retain_graph=True)  # I honestly don't understand why retain_graph=True is needed ...\n",
    "    opt.step()\n",
    "\n",
    "    if i % 100 == 0:\n",
    "        \n",
    "        print(i, float(sample_kl))\n",
    "        \n",
    "        for layer in flow.layers:\n",
    "            assert (float(layer.u @ layer.w) > -1)\n",
    "            \n",
    "end = time.perf_counter()\n",
    "end - start"
   ]
  },
  {
   "cell_type": "code",
   "execution_count": 59,
   "id": "328dee42",
   "metadata": {},
   "outputs": [
    {
     "data": {
      "image/png": "[encoded data removed]",
      "text/plain": [
       "<Figure size 270x270 with 1 Axes>"
      ]
     },
     "metadata": {
      "needs_background": "light"
     },
     "output_type": "display_data"
    }
   ],
   "source": [
    "fig = plt.figure(figsize=(3.75, 3.75))\n",
    "plt.plot(samples_kls)\n",
    "plt.savefig(f\"imgs/{potential}_kl_over_time.png\", dpi=300, bbox_inches='tight')"
   ]
  },
  {
   "cell_type": "markdown",
   "id": "7ad88013",
   "metadata": {},
   "source": [
    "## Invertibility check"
   ]
  },
  {
   "cell_type": "code",
   "execution_count": 60,
   "id": "7d3403a7",
   "metadata": {},
   "outputs": [],
   "source": [
    "for layer in flow.layers:\n",
    "    assert (float(layer.u @ layer.w) > -1)"
   ]
  },
  {
   "cell_type": "markdown",
   "id": "243950c1",
   "metadata": {},
   "source": [
    "## Graphing"
   ]
  },
  {
   "cell_type": "code",
   "execution_count": 61,
   "id": "31fb30a2",
   "metadata": {},
   "outputs": [
    {
     "data": {
      "image/png": "[encoded data removed]",
      "text/plain": [
       "<Figure size 270x270 with 1 Axes>"
      ]
     },
     "metadata": {
      "needs_background": "light"
     },
     "output_type": "display_data"
    }
   ],
   "source": [
    "fig = plt.figure(figsize=(3.75, 3.75))\n",
    "\n",
    "samples_qK, _ = flow.sample_and_return_log_prob(n=int(1e6))\n",
    "samples_qK = samples_qK.detach().numpy()\n",
    "\n",
    "#samples_qK = samples_qK[np.bitwise_and(samples_qK[:,0] >= -4 , samples_qK[:,0] <= 4)]\n",
    "\n",
    "# plt.hexbin(samples_qK[:,0], samples_qK[:,1], gridsize=50, cmap=\"turbo\", extent=[-4, 4, -4, 4])\n",
    "plt.hist2d(samples_qK[:,0], samples_qK[:,1], bins=100, cmap=\"jet\", range=[[-6, 6], [-6, 6]])\n",
    "    \n",
    "plt.axis(\"off\")\n",
    "plt.gca().set_aspect('equal', adjustable='box')\n",
    "\n",
    "plt.savefig(f\"imgs/{potential}_learned_density.png\", dpi=300, bbox_inches='tight')"
   ]
  },
  {
   "cell_type": "code",
   "execution_count": 62,
   "id": "b21715a9",
   "metadata": {},
   "outputs": [],
   "source": [
    "n = 10000"
   ]
  },
  {
   "cell_type": "code",
   "execution_count": 63,
   "id": "0dea5045",
   "metadata": {},
   "outputs": [],
   "source": [
    "phi = np.linspace(0, 2*np.pi, n)\n",
    "x = np.sin(phi)\n",
    "y = np.cos(phi)\n",
    "rgb_cycle = (np.stack((np.cos(phi          ), # Three sinusoids,\n",
    "                       np.cos(phi+2*np.pi/3), # 120° phase shifted,\n",
    "                       np.cos(phi-2*np.pi/3)\n",
    "                      )).T # Shape = (60,3)\n",
    "             + 1)*0.5   "
   ]
  },
  {
   "cell_type": "code",
   "execution_count": 64,
   "id": "bed00831",
   "metadata": {},
   "outputs": [
    {
     "data": {
      "image/png": "[encoded data removed]",
      "text/plain": [
       "<Figure size 360x270 with 12 Axes>"
      ]
     },
     "metadata": {},
     "output_type": "display_data"
    }
   ],
   "source": [
    "samples_from_each_layer = flow.sample_from_each_layer(n=n)\n",
    "samples_from_each_layer = [samples.detach().numpy() for samples in samples_from_each_layer]\n",
    "\n",
    "indices = np.argsort(\n",
    "    (samples_from_each_layer[0][:,0] - float(flow.μ[0])) ** 2 + \n",
    "    (samples_from_each_layer[0][:,1] - float(flow.μ[1])) ** 2\n",
    ")\n",
    "\n",
    "fig = plt.figure(figsize=(5, 5 / 4 * 3), )\n",
    "for i, j in enumerate([0, 5, 10, 20, 30, 40, 50, 60, 70, 80, 90, 100]):\n",
    "    fig.add_subplot(3, 4, i+1)\n",
    "    plt.scatter(samples_from_each_layer[j][:,0][indices], \n",
    "                samples_from_each_layer[j][:,1][indices], \n",
    "                color=rgb_cycle,\n",
    "                s=0.01, alpha=1)\n",
    "    plt.text(-4.5, 3, f\"{j}\", size=13)\n",
    "    plt.xlim(-6, 6)\n",
    "    plt.ylim(-6, 6)\n",
    "    plt.xticks([])\n",
    "    plt.yticks([])\n",
    "fig.subplots_adjust(wspace=0, hspace=0)\n",
    "\n",
    "plt.savefig(f\"imgs/{potential}_samples_from_each_layer.png\", dpi=300, bbox_inches='tight')"
   ]
  },
  {
   "cell_type": "markdown",
   "id": "7a238eb2",
   "metadata": {},
   "source": [
    "## Unused code"
   ]
  },
  {
   "cell_type": "code",
   "execution_count": null,
   "id": "0e072911",
   "metadata": {},
   "outputs": [],
   "source": [
    "# connecting lines between points in q0 and points in qk\n",
    "\n",
    "# samples_q0, samples_qK, _ = flow.sample_and_return_log_prob(n=1000)\n",
    "# samples_q0 = samples_q0.detach().numpy()\n",
    "# samples_qK = samples_qK.detach().numpy()\n",
    "\n",
    "# for i in range(len(samples_q0)):\n",
    "#     plt.plot([samples_q0[i][0] + 5, samples_qK[i][0]], \n",
    "#              [samples_q0[i][1] + 5, samples_qK[i][1]], \n",
    "#              color=\"black\", linewidth=0.2, alpha=0.1)\n",
    "\n",
    "# plt.scatter(samples_q0[:,0] + 5, samples_q0[:,1] + 5, s=5, color=\"green\", alpha=0.1)\n",
    "# plt.scatter(samples_qK[:,0], samples_qK[:,1], s=5, color=\"red\", alpha=0.1)\n",
    "    \n",
    "# #plt.xlim(-4, 4)\n",
    "# #plt.ylim(-4, 4)\n",
    "# plt.axis(\"off\")\n",
    "# plt.gca().set_aspect('equal', adjustable='box')\n",
    "# plt.savefig(\"flow.png\", dpi=300)"
   ]
  },
  {
   "cell_type": "code",
   "execution_count": null,
   "id": "643d213c",
   "metadata": {},
   "outputs": [],
   "source": [
    "# density plot with Gaussian KDE\n",
    "\n",
    "# _, samples_qK, _ = flow.sample_and_return_log_prob(n=100000)\n",
    "# samples_qK = samples_qK.detach().numpy()\n",
    "\n",
    "# x, y = samples_qK[:,0], samples_qK[:,1]\n",
    "# nbins = 50\n",
    "# xi, yi = np.meshgrid(np.linspace(x.min(), x.max(), nbins), np.linspace(y.min(), y.max(), nbins))\n",
    "\n",
    "# k = kde.gaussian_kde(samples_qK.T, bw_method=0.02)\n",
    "# zi = k(np.vstack([xi.flatten(), yi.flatten()]))\n",
    "\n",
    "# plt.contourf(xi, yi, zi.reshape(xi.shape), levels=20, cmap=\"turbo\")\n",
    "\n",
    "# plt.xlim(-4, 4)\n",
    "# plt.ylim(-4, 4)\n",
    "# plt.axis(\"off\")\n",
    "# plt.gca().set_aspect('equal', adjustable='box')\n",
    "# plt.savefig(\"u4_density_estimated.png\", dpi=1000)"
   ]
  }
 ],
 "metadata": {
  "kernelspec": {
   "display_name": "Python 3 (ipykernel)",
   "language": "python",
   "name": "python3"
  },
  "language_info": {
   "codemirror_mode": {
    "name": "ipython",
    "version": 3
   },
   "file_extension": ".py",
   "mimetype": "text/x-python",
   "name": "python",
   "nbconvert_exporter": "python",
   "pygments_lexer": "ipython3",
   "version": "3.8.13"
  },
  "toc": {
   "base_numbering": 1,
   "nav_menu": {},
   "number_sections": false,
   "sideBar": true,
   "skip_h1_title": false,
   "title_cell": "Table of Contents",
   "title_sidebar": "Contents",
   "toc_cell": false,
   "toc_position": {},
   "toc_section_display": true,
   "toc_window_display": false
  }
 },
 "nbformat": 4,
 "nbformat_minor": 5
}
