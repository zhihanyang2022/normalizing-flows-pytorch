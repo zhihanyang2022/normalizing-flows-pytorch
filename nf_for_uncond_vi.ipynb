{
 "cells": [
  {
   "cell_type": "code",
   "execution_count": 95,
   "id": "46a7a234",
   "metadata": {},
   "outputs": [],
   "source": [
    "%reload_ext autoreload\n",
    "%autoreload 2"
   ]
  },
  {
   "cell_type": "code",
   "execution_count": 96,
   "id": "b98cdc1c",
   "metadata": {},
   "outputs": [],
   "source": [
    "import numpy as np\n",
    "\n",
    "import torch\n",
    "import torch.optim as optim\n",
    "\n",
    "import matplotlib.pyplot as plt\n",
    "import time\n",
    "\n",
    "from core import NormalizingFlow"
   ]
  },
  {
   "cell_type": "code",
   "execution_count": 97,
   "id": "6f2fae9a",
   "metadata": {},
   "outputs": [
    {
     "name": "stdout",
     "output_type": "stream",
     "text": [
      "True\n"
     ]
    }
   ],
   "source": [
    "# checking my implementation\n",
    "flow = NormalizingFlow(D=2, K=100)\n",
    "torch.manual_seed(42)\n",
    "_, log_prob_1 = flow.sample(n=100, efficient=True)\n",
    "torch.manual_seed(42)\n",
    "_, log_prob_2 = flow.sample(n=100, efficient=False)  # using torch's jacobian function underneath\n",
    "print(torch.allclose(log_prob_1, log_prob_2))"
   ]
  },
  {
   "cell_type": "markdown",
   "id": "3e5f552d",
   "metadata": {},
   "source": [
    "## Potential function"
   ]
  },
  {
   "cell_type": "markdown",
   "id": "68921b6b",
   "metadata": {},
   "source": [
    "### My custom potential function"
   ]
  },
  {
   "cell_type": "code",
   "execution_count": 98,
   "id": "7c4df45f",
   "metadata": {},
   "outputs": [],
   "source": [
    "def U_with_argument(z, angle, distance):\n",
    "    rotational_matrix = torch.Tensor([\n",
    "        [torch.cos(torch.tensor(angle)), -torch.sin(torch.tensor(angle))],\n",
    "        [torch.sin(torch.tensor(angle)), torch.cos(torch.tensor(angle))]\n",
    "    ])\n",
    "    z = (rotational_matrix @ z.T).T\n",
    "    term1 = 0.5 * ((torch.sqrt(z[:,0] ** 2 + z[:,1] ** 2) - distance) / 0.4) ** 2\n",
    "    term2 = torch.log(\n",
    "        torch.exp(-0.5 * ((z[:,0] - distance) / 0.6) ** 2) + \n",
    "        torch.exp(-0.5 * ((z[:,0] + distance) / 0.6) ** 2) + \n",
    "        1e-5\n",
    "    )\n",
    "    return (term1 - term2)"
   ]
  },
  {
   "cell_type": "code",
   "execution_count": 99,
   "id": "c0fea177",
   "metadata": {},
   "outputs": [],
   "source": [
    "def U_eight(z, divider=1):\n",
    "    return U_with_argument(z, torch.pi/4, 3) + \\\n",
    "           U_with_argument(z, torch.pi / 2 + torch.pi/4, 3) + \\\n",
    "           U_with_argument(z, 0, 3) + \\\n",
    "           U_with_argument(z, torch.pi / 2, 3)"
   ]
  },
  {
   "cell_type": "markdown",
   "id": "d4ba913a",
   "metadata": {},
   "source": [
    "### Other potential functions from paper"
   ]
  },
  {
   "cell_type": "code",
   "execution_count": 100,
   "id": "98e61c8e",
   "metadata": {},
   "outputs": [],
   "source": [
    "def w1(z): return torch.sin(2 * torch.pi * z[:, 0] / 4)                 \n",
    "def w2(z): return 3 * torch.exp(-0.5 * ((z[:, 0] - 1) / 0.5) ** 2)\n",
    "def σ(x): return 1 / (1 + torch.exp(-x))\n",
    "def w3(z): return 3 * σ((z[:, 0] - 1) / 0.3)"
   ]
  },
  {
   "cell_type": "code",
   "execution_count": 101,
   "id": "91244e26",
   "metadata": {},
   "outputs": [],
   "source": [
    "def taper(z):\n",
    "    return torch.sigmoid(\n",
    "        ( 5 - torch.linalg.vector_norm(z, dim=1, ord=np.inf) ) * 10\n",
    "    )"
   ]
  },
  {
   "cell_type": "code",
   "execution_count": 102,
   "id": "2df52c4d",
   "metadata": {},
   "outputs": [],
   "source": [
    "def add_taper(potential):\n",
    "    def new_potential(z):\n",
    "        # so density is exp(-potential(z) + log(taper(z))) = exp(-potential(z)) * taper(z)\n",
    "        return potential(z) - torch.log(taper(z))\n",
    "    return new_potential"
   ]
  },
  {
   "cell_type": "code",
   "execution_count": 103,
   "id": "cef786c2",
   "metadata": {},
   "outputs": [],
   "source": [
    "def U1(z):\n",
    "    part_1 = (1/2) * ((torch.sqrt(z[:,0] ** 2 + z[:,1]**2) - 2) / 0.4) ** 2\n",
    "    part_2 = torch.log(\n",
    "        torch.exp(-0.5 * ((z[:,0] - 2) / 0.6) ** 2) + \n",
    "        torch.exp(-0.5 * ((z[:,0] + 2) / 0.6) ** 2)\n",
    "    )\n",
    "    return (part_1 - part_2)"
   ]
  },
  {
   "cell_type": "code",
   "execution_count": 104,
   "id": "b83a6db6",
   "metadata": {},
   "outputs": [],
   "source": [
    "@add_taper\n",
    "def U2(z):\n",
    "    return ((1/2) * ((z[:,1] - w1(z)) / 0.4) ** 2)"
   ]
  },
  {
   "cell_type": "code",
   "execution_count": 105,
   "id": "c5a68f13",
   "metadata": {},
   "outputs": [],
   "source": [
    "@add_taper\n",
    "def U3(z):\n",
    "    return - torch.log(\n",
    "        torch.exp(-0.5 * ((z[:, 1] - w1(z)) / 0.35) ** 2) + \n",
    "        torch.exp(-0.5 * ((z[:, 1] - w1(z) + w2(z)) / 0.35) ** 2)\n",
    "    )"
   ]
  },
  {
   "cell_type": "code",
   "execution_count": 106,
   "id": "b8b7bb66",
   "metadata": {},
   "outputs": [],
   "source": [
    "@add_taper\n",
    "def U4(z):\n",
    "    return - torch.log(\n",
    "        torch.exp(-0.5 * ((z[:, 1] - w1(z)) / 0.34) ** 2) + \n",
    "        torch.exp(-0.5 * ((z[:, 1] - w1(z) + w3(z)) / 0.35) ** 2)\n",
    "    )"
   ]
  },
  {
   "cell_type": "markdown",
   "id": "6312996a",
   "metadata": {},
   "source": [
    "## Choosing a potential function"
   ]
  },
  {
   "cell_type": "code",
   "execution_count": 117,
   "id": "ed66d014",
   "metadata": {},
   "outputs": [],
   "source": [
    "potential = \"U8\"\n",
    "\n",
    "if potential == \"U1\":\n",
    "    U = U1\n",
    "    num_epochs = 5000\n",
    "elif potential == \"U2\":\n",
    "    U = U2\n",
    "    num_epochs = 5000\n",
    "elif potential == \"U3\":\n",
    "    U = U3\n",
    "    num_epochs = 10000\n",
    "elif potential == \"U4\":\n",
    "    U = U4\n",
    "    num_epochs = 10000\n",
    "elif potential == \"U8\":\n",
    "    U = U_eight\n",
    "    num_epochs = 10000"
   ]
  },
  {
   "cell_type": "markdown",
   "id": "7f8ba460",
   "metadata": {},
   "source": [
    "## Graphing potential function"
   ]
  },
  {
   "cell_type": "code",
   "execution_count": 118,
   "id": "41156817",
   "metadata": {
    "scrolled": true
   },
   "outputs": [
    {
     "data": {
      "text/plain": "<Figure size 270x270 with 1 Axes>",
      "image/png": "[encoded data removed]"
     },
     "metadata": {
      "needs_background": "light"
     },
     "output_type": "display_data"
    }
   ],
   "source": [
    "fig = plt.figure(figsize=(3.75, 3.75))\n",
    "\n",
    "xs = torch.linspace(-6, 6, 100)\n",
    "xxs, yys = torch.meshgrid(xs, xs)\n",
    "xxs2, yys2 = xxs.reshape(-1, 1), yys.reshape(-1, 1)\n",
    "unnorm_p = torch.exp(- U(torch.hstack([xxs2, yys2]))) #* decay(torch.hstack([xxs2, yys2]))\n",
    "\n",
    "plt.contourf(xxs.numpy(), yys.numpy(), unnorm_p.reshape(100, 100).numpy(), levels=100, cmap=\"jet\")\n",
    "plt.xlim(-6, 6)\n",
    "plt.ylim(-6, 6)\n",
    "plt.axis(\"off\")\n",
    "plt.gca().set_aspect('equal', adjustable='box')\n",
    "plt.savefig(f\"imgs/{potential}_true_density.png\", dpi=300, bbox_inches='tight')"
   ]
  },
  {
   "cell_type": "markdown",
   "id": "b8c1045f",
   "metadata": {},
   "source": [
    "## Training"
   ]
  },
  {
   "cell_type": "code",
   "execution_count": 119,
   "id": "026408fc",
   "metadata": {},
   "outputs": [
    {
     "data": {
      "text/plain": "<Figure size 360x360 with 1 Axes>",
      "image/png": "[encoded data removed]"
     },
     "metadata": {
      "needs_background": "light"
     },
     "output_type": "display_data"
    }
   ],
   "source": [
    "flow = NormalizingFlow(D=2, K=100)\n",
    "\n",
    "with torch.no_grad():\n",
    "    samples_untrained = flow.sample(n=1000, efficient=True)[0]\n",
    "    \n",
    "plt.figure(figsize=(5, 5))\n",
    "plt.scatter(samples_untrained[:, 0], samples_untrained[:, 1], s=3)\n",
    "plt.show()"
   ]
  },
  {
   "cell_type": "code",
   "execution_count": 120,
   "id": "70a02729",
   "metadata": {},
   "outputs": [
    {
     "name": "stdout",
     "output_type": "stream",
     "text": [
      "100 17.301164627075195\n",
      "200 11.241275787353516\n",
      "300 9.817535400390625\n",
      "400 9.428613662719727\n",
      "500 9.260852813720703\n",
      "600 9.20004940032959\n",
      "700 9.14075756072998\n",
      "800 9.189620971679688\n",
      "900 9.081009864807129\n",
      "1000 9.05408763885498\n",
      "1100 8.935919761657715\n",
      "1200 8.967796325683594\n",
      "1300 8.920601844787598\n",
      "1400 8.9248046875\n",
      "1500 8.840801239013672\n",
      "1600 8.859511375427246\n",
      "1700 8.772714614868164\n",
      "1800 8.82956600189209\n",
      "1900 8.788615226745605\n",
      "2000 8.769635200500488\n",
      "2100 8.7521390914917\n",
      "2200 8.750155448913574\n",
      "2300 8.744958877563477\n",
      "2400 8.73791217803955\n",
      "2500 8.74654769897461\n",
      "2600 8.742505073547363\n",
      "2700 8.68624496459961\n",
      "2800 8.696025848388672\n",
      "2900 8.64084243774414\n",
      "3000 8.688146591186523\n",
      "3100 8.623455047607422\n",
      "3200 8.50572681427002\n",
      "3300 8.427389144897461\n",
      "3400 8.369173049926758\n",
      "3500 8.274054527282715\n",
      "3600 8.265789031982422\n",
      "3700 8.22497844696045\n",
      "3800 8.194694519042969\n",
      "3900 8.228266716003418\n",
      "4000 8.158912658691406\n",
      "4100 8.113033294677734\n",
      "4200 8.095905303955078\n",
      "4300 8.078856468200684\n",
      "4400 8.054007530212402\n",
      "4500 8.105286598205566\n",
      "4600 8.058393478393555\n",
      "4700 8.047782897949219\n",
      "4800 8.073219299316406\n",
      "4900 8.024931907653809\n",
      "5000 8.052679061889648\n",
      "5100 8.038915634155273\n",
      "5200 8.030096054077148\n",
      "5300 8.026379585266113\n",
      "5400 8.022637367248535\n",
      "5500 8.031139373779297\n",
      "5600 8.049887657165527\n",
      "5700 8.0524320602417\n",
      "5800 8.019920349121094\n",
      "5900 8.02958869934082\n",
      "6000 8.005924224853516\n",
      "6100 8.020925521850586\n",
      "6200 8.01968002319336\n",
      "6300 8.162721633911133\n",
      "6400 8.01405143737793\n",
      "6500 8.027873039245605\n",
      "6600 8.030692100524902\n",
      "6700 8.014421463012695\n",
      "6800 8.017759323120117\n",
      "6900 7.993613243103027\n",
      "7000 8.029552459716797\n",
      "7100 8.018518447875977\n",
      "7200 7.992871284484863\n",
      "7300 8.00341510772705\n",
      "7400 8.01207160949707\n",
      "7500 8.041662216186523\n",
      "7600 8.008118629455566\n",
      "7700 8.02202320098877\n",
      "7800 8.012035369873047\n",
      "7900 8.005123138427734\n",
      "8000 8.009100914001465\n",
      "8100 8.014198303222656\n",
      "8200 8.002700805664062\n",
      "8300 8.012873649597168\n",
      "8400 8.021778106689453\n",
      "8500 7.987831115722656\n",
      "8600 8.006762504577637\n",
      "8700 8.031549453735352\n",
      "8800 8.024394989013672\n",
      "8900 8.00480842590332\n",
      "9000 8.006254196166992\n",
      "9100 7.998358726501465\n",
      "9200 7.99689245223999\n",
      "9300 7.993534088134766\n",
      "9400 8.016266822814941\n",
      "9500 8.004642486572266\n",
      "9600 8.015233039855957\n",
      "9700 7.998786449432373\n",
      "9800 8.001550674438477\n",
      "9900 8.00307559967041\n",
      "10000 8.013524055480957\n"
     ]
    },
    {
     "data": {
      "text/plain": "229.61198041599982"
     },
     "execution_count": 120,
     "metadata": {},
     "output_type": "execute_result"
    }
   ],
   "source": [
    "flow = NormalizingFlow(D=2, K=50)\n",
    "opt = optim.Adam(flow.parameters(), lr=2e-3)\n",
    "\n",
    "start = time.perf_counter()\n",
    "\n",
    "samples_kls = []\n",
    "\n",
    "for i in range(1, num_epochs + 1):\n",
    "    \n",
    "    samples_from_q_K, log_probs = flow.sample(n=1000, efficient=True)\n",
    "    sample_kl = (log_probs + U(samples_from_q_K)).mean()  # monte-carlo estimate of the kl-divergence\n",
    "    samples_kls.append(float(sample_kl))\n",
    "    \n",
    "    opt.zero_grad()\n",
    "    sample_kl.backward()\n",
    "    opt.step()\n",
    "\n",
    "    if i % 100 == 0:\n",
    "        \n",
    "        print(i, float(sample_kl))\n",
    "            \n",
    "end = time.perf_counter()\n",
    "end - start"
   ]
  },
  {
   "cell_type": "code",
   "execution_count": 122,
   "id": "328dee42",
   "metadata": {},
   "outputs": [
    {
     "data": {
      "text/plain": "<Figure size 270x270 with 1 Axes>",
      "image/png": "[encoded data removed]"
     },
     "metadata": {
      "needs_background": "light"
     },
     "output_type": "display_data"
    }
   ],
   "source": [
    "fig = plt.figure(figsize=(3.75, 3.75))\n",
    "plt.plot(samples_kls)\n",
    "plt.savefig(f\"imgs/{potential}_kl_over_time.png\", dpi=300, bbox_inches='tight')"
   ]
  },
  {
   "cell_type": "markdown",
   "id": "243950c1",
   "metadata": {},
   "source": [
    "## Graphing"
   ]
  },
  {
   "cell_type": "code",
   "execution_count": 123,
   "id": "31fb30a2",
   "metadata": {},
   "outputs": [
    {
     "data": {
      "text/plain": "<Figure size 270x270 with 1 Axes>",
      "image/png": "[encoded data removed]"
     },
     "metadata": {
      "needs_background": "light"
     },
     "output_type": "display_data"
    }
   ],
   "source": [
    "fig = plt.figure(figsize=(3.75, 3.75))\n",
    "\n",
    "samples_qK, _ = flow.sample(n=int(1e6))\n",
    "samples_qK = samples_qK.detach().numpy()\n",
    "\n",
    "#samples_qK = samples_qK[np.bitwise_and(samples_qK[:,0] >= -4 , samples_qK[:,0] <= 4)]\n",
    "\n",
    "# plt.hexbin(samples_qK[:,0], samples_qK[:,1], gridsize=50, cmap=\"turbo\", extent=[-4, 4, -4, 4])\n",
    "plt.hist2d(samples_qK[:,0], samples_qK[:,1], bins=100, cmap=\"jet\", range=[[-6, 6], [-6, 6]])\n",
    "    \n",
    "plt.axis(\"off\")\n",
    "plt.gca().set_aspect('equal', adjustable='box')\n",
    "\n",
    "plt.savefig(f\"imgs/{potential}_learned_density.png\", dpi=300, bbox_inches='tight')"
   ]
  },
  {
   "cell_type": "code",
   "execution_count": 124,
   "outputs": [],
   "source": [
    "n = 10000"
   ],
   "metadata": {
    "collapsed": false,
    "pycharm": {
     "name": "#%%\n"
    }
   }
  },
  {
   "cell_type": "code",
   "execution_count": 125,
   "id": "0dea5045",
   "metadata": {},
   "outputs": [],
   "source": [
    "# copied from stackoverflow\n",
    "phi = np.linspace(0, 2*np.pi, n)\n",
    "x = np.sin(phi)\n",
    "y = np.cos(phi)\n",
    "rgb_cycle = (np.stack((np.cos(phi          ), # Three sinusoids,\n",
    "                       np.cos(phi+2*np.pi/3), # 120° phase shifted,\n",
    "                       np.cos(phi-2*np.pi/3)\n",
    "                      )).T # Shape = (60,3)\n",
    "             + 1)*0.5   "
   ]
  },
  {
   "cell_type": "code",
   "execution_count": 126,
   "id": "bed00831",
   "metadata": {},
   "outputs": [
    {
     "data": {
      "text/plain": "<Figure size 360x270 with 12 Axes>",
      "image/png": "[encoded data removed]"
     },
     "metadata": {},
     "output_type": "display_data"
    }
   ],
   "source": [
    "samples_from_each_layer = flow.sample_from_each_layer(n=n)\n",
    "samples_from_each_layer = [samples.detach().numpy() for samples in samples_from_each_layer]\n",
    "\n",
    "indices = np.argsort(\n",
    "    (samples_from_each_layer[0][:,0] - float(flow.μ[0])) ** 2 + \n",
    "    (samples_from_each_layer[0][:,1] - float(flow.μ[1])) ** 2\n",
    ")\n",
    "\n",
    "fig = plt.figure(figsize=(5, 5 / 4 * 3), )\n",
    "for i, j in enumerate([0, 1, 5, 10, 15, 20, 25, 30, 35, 40, 45, 50]):\n",
    "    fig.add_subplot(3, 4, i+1)\n",
    "    plt.scatter(samples_from_each_layer[j][:,0][indices], \n",
    "                samples_from_each_layer[j][:,1][indices], \n",
    "                color=rgb_cycle,\n",
    "                s=0.01, alpha=1)\n",
    "    plt.text(-4.5, 3, f\"{j}\", size=13)\n",
    "    plt.xlim(-6, 6)\n",
    "    plt.ylim(-6, 6)\n",
    "    plt.xticks([])\n",
    "    plt.yticks([])\n",
    "fig.subplots_adjust(wspace=0, hspace=0)\n",
    "\n",
    "plt.savefig(f\"imgs/{potential}_samples_from_each_layer.png\", dpi=300, bbox_inches='tight')"
   ]
  },
  {
   "cell_type": "markdown",
   "id": "7a238eb2",
   "metadata": {},
   "source": [
    "## Unused code"
   ]
  },
  {
   "cell_type": "code",
   "execution_count": null,
   "id": "0e072911",
   "metadata": {},
   "outputs": [],
   "source": [
    "# connecting lines between points in q0 and points in qk\n",
    "\n",
    "# samples_q0, samples_qK, _ = flow.sample_and_return_log_prob(n=1000)\n",
    "# samples_q0 = samples_q0.detach().numpy()\n",
    "# samples_qK = samples_qK.detach().numpy()\n",
    "\n",
    "# for i in range(len(samples_q0)):\n",
    "#     plt.plot([samples_q0[i][0] + 5, samples_qK[i][0]], \n",
    "#              [samples_q0[i][1] + 5, samples_qK[i][1]], \n",
    "#              color=\"black\", linewidth=0.2, alpha=0.1)\n",
    "\n",
    "# plt.scatter(samples_q0[:,0] + 5, samples_q0[:,1] + 5, s=5, color=\"green\", alpha=0.1)\n",
    "# plt.scatter(samples_qK[:,0], samples_qK[:,1], s=5, color=\"red\", alpha=0.1)\n",
    "    \n",
    "# #plt.xlim(-4, 4)\n",
    "# #plt.ylim(-4, 4)\n",
    "# plt.axis(\"off\")\n",
    "# plt.gca().set_aspect('equal', adjustable='box')\n",
    "# plt.savefig(\"flow.png\", dpi=300)"
   ]
  },
  {
   "cell_type": "code",
   "execution_count": null,
   "id": "643d213c",
   "metadata": {},
   "outputs": [],
   "source": [
    "# density plot with Gaussian KDE\n",
    "\n",
    "# _, samples_qK, _ = flow.sample_and_return_log_prob(n=100000)\n",
    "# samples_qK = samples_qK.detach().numpy()\n",
    "\n",
    "# x, y = samples_qK[:,0], samples_qK[:,1]\n",
    "# nbins = 50\n",
    "# xi, yi = np.meshgrid(np.linspace(x.min(), x.max(), nbins), np.linspace(y.min(), y.max(), nbins))\n",
    "\n",
    "# k = kde.gaussian_kde(samples_qK.T, bw_method=0.02)\n",
    "# zi = k(np.vstack([xi.flatten(), yi.flatten()]))\n",
    "\n",
    "# plt.contourf(xi, yi, zi.reshape(xi.shape), levels=20, cmap=\"turbo\")\n",
    "\n",
    "# plt.xlim(-4, 4)\n",
    "# plt.ylim(-4, 4)\n",
    "# plt.axis(\"off\")\n",
    "# plt.gca().set_aspect('equal', adjustable='box')\n",
    "# plt.savefig(\"u4_density_estimated.png\", dpi=1000)"
   ]
  }
 ],
 "metadata": {
  "kernelspec": {
   "display_name": "Python 3 (ipykernel)",
   "language": "python",
   "name": "python3"
  },
  "language_info": {
   "codemirror_mode": {
    "name": "ipython",
    "version": 3
   },
   "file_extension": ".py",
   "mimetype": "text/x-python",
   "name": "python",
   "nbconvert_exporter": "python",
   "pygments_lexer": "ipython3",
   "version": "3.8.13"
  },
  "toc": {
   "base_numbering": 1,
   "nav_menu": {},
   "number_sections": false,
   "sideBar": true,
   "skip_h1_title": false,
   "title_cell": "Table of Contents",
   "title_sidebar": "Contents",
   "toc_cell": false,
   "toc_position": {},
   "toc_section_display": true,
   "toc_window_display": false
  }
 },
 "nbformat": 4,
 "nbformat_minor": 5
}