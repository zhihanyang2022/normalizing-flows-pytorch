{
 "cells": [
  {
   "cell_type": "code",
   "execution_count": 338,
   "id": "46a7a234",
   "metadata": {},
   "outputs": [],
   "source": [
    "%reload_ext autoreload\n",
    "%autoreload 2"
   ]
  },
  {
   "cell_type": "code",
   "execution_count": 339,
   "id": "b98cdc1c",
   "metadata": {},
   "outputs": [],
   "source": [
    "import numpy as np\n",
    "from scipy.stats import kde\n",
    "\n",
    "import torch\n",
    "import torch.optim as optim\n",
    "import torch.distributions as tdist\n",
    "import torch.nn.functional as F\n",
    "\n",
    "import matplotlib.pyplot as plt\n",
    "import time\n",
    "\n",
    "from core import NormalizingFlow, DiagonalGaussian, FullRankGaussian"
   ]
  },
  {
   "cell_type": "code",
   "execution_count": 340,
   "id": "6f2fae9a",
   "metadata": {},
   "outputs": [
    {
     "ename": "TypeError",
     "evalue": "__init__() missing 1 required positional argument: 'K'",
     "output_type": "error",
     "traceback": [
      "\u001b[0;31m---------------------------------------------------------------------------\u001b[0m",
      "\u001b[0;31mTypeError\u001b[0m                                 Traceback (most recent call last)",
      "Input \u001b[0;32mIn [340]\u001b[0m, in \u001b[0;36m<cell line: 1>\u001b[0;34m()\u001b[0m\n\u001b[0;32m----> 1\u001b[0m flow \u001b[38;5;241m=\u001b[39m \u001b[43mNormalizingFlow\u001b[49m\u001b[43m(\u001b[49m\u001b[43mD\u001b[49m\u001b[38;5;241;43m=\u001b[39;49m\u001b[38;5;241;43m2\u001b[39;49m\u001b[43m)\u001b[49m\n\u001b[1;32m      2\u001b[0m torch\u001b[38;5;241m.\u001b[39mmanual_seed(\u001b[38;5;241m42\u001b[39m)\n\u001b[1;32m      3\u001b[0m _, log_prob_1 \u001b[38;5;241m=\u001b[39m flow\u001b[38;5;241m.\u001b[39msample(n\u001b[38;5;241m=\u001b[39m\u001b[38;5;241m100\u001b[39m, efficient\u001b[38;5;241m=\u001b[39m\u001b[38;5;28;01mFalse\u001b[39;00m)\n",
      "\u001b[0;31mTypeError\u001b[0m: __init__() missing 1 required positional argument: 'K'"
     ]
    }
   ],
   "source": [
    "flow = NormalizingFlow(D=2)\n",
    "torch.manual_seed(42)\n",
    "_, log_prob_1 = flow.sample(n=100, efficient=False)\n",
    "torch.manual_seed(42)\n",
    "_, log_prob_2 = flow.sample(n=100, efficient=False)\n",
    "print(torch.eq(log_prob_1, log_prob_2))"
   ]
  },
  {
   "cell_type": "markdown",
   "id": "3e5f552d",
   "metadata": {},
   "source": [
    "## Potential function"
   ]
  },
  {
   "cell_type": "markdown",
   "id": "68921b6b",
   "metadata": {},
   "source": [
    "### My custom potential function"
   ]
  },
  {
   "cell_type": "code",
   "execution_count": 341,
   "id": "7c4df45f",
   "metadata": {},
   "outputs": [],
   "source": [
    "def U_with_argument(z, angle, distance):\n",
    "    rotational_matrix = torch.Tensor([\n",
    "        [torch.cos(torch.tensor(angle)), -torch.sin(torch.tensor(angle))],\n",
    "        [torch.sin(torch.tensor(angle)), torch.cos(torch.tensor(angle))]\n",
    "    ])\n",
    "    z = (rotational_matrix @ z.T).T\n",
    "    term1 = 0.5 * ((torch.sqrt(z[:,0] ** 2 + z[:,1] ** 2) - distance) / 0.4) ** 2\n",
    "    term2 = torch.log(\n",
    "        torch.exp(-0.5 * ((z[:,0] - distance) / 0.6) ** 2) + \n",
    "        torch.exp(-0.5 * ((z[:,0] + distance) / 0.6) ** 2) + \n",
    "        1e-5\n",
    "    )\n",
    "    return (term1 - term2)"
   ]
  },
  {
   "cell_type": "code",
   "execution_count": 342,
   "id": "c0fea177",
   "metadata": {},
   "outputs": [],
   "source": [
    "def U_eight(z, divider=1):\n",
    "    return U_with_argument(z, torch.pi/4, 3) + \\\n",
    "           U_with_argument(z, torch.pi / 2 + torch.pi/4, 3) + \\\n",
    "           U_with_argument(z, 0, 3) + \\\n",
    "           U_with_argument(z, torch.pi / 2, 3)"
   ]
  },
  {
   "cell_type": "markdown",
   "id": "d4ba913a",
   "metadata": {},
   "source": [
    "### Other potential functions from paper"
   ]
  },
  {
   "cell_type": "code",
   "execution_count": 343,
   "id": "98e61c8e",
   "metadata": {},
   "outputs": [],
   "source": [
    "def w1(z): return torch.sin(2 * torch.pi * z[:, 0] / 4)                 \n",
    "def w2(z): return 3 * torch.exp(-0.5 * ((z[:, 0] - 1) / 0.5) ** 2)\n",
    "def σ(x): return 1 / (1 + torch.exp(-x))\n",
    "def w3(z): return 3 * σ((z[:, 0] - 1) / 0.3)"
   ]
  },
  {
   "cell_type": "code",
   "execution_count": 344,
   "id": "91244e26",
   "metadata": {},
   "outputs": [],
   "source": [
    "def taper(z):\n",
    "    return torch.sigmoid(\n",
    "        ( 5 - torch.linalg.vector_norm(z, dim=1, ord=np.inf) ) * 10\n",
    "    )"
   ]
  },
  {
   "cell_type": "code",
   "execution_count": 345,
   "id": "2df52c4d",
   "metadata": {},
   "outputs": [],
   "source": [
    "def add_taper(potential):\n",
    "    def new_potential(z):\n",
    "        # so density is exp(-potential(z) + log(taper(z))) = exp(-potential(z)) * taper(z)\n",
    "        return potential(z) - torch.log(taper(z))\n",
    "    return new_potential"
   ]
  },
  {
   "cell_type": "code",
   "execution_count": 346,
   "id": "cef786c2",
   "metadata": {},
   "outputs": [],
   "source": [
    "def U1(z):\n",
    "    part_1 = (1/2) * ((torch.sqrt(z[:,0] ** 2 + z[:,1]**2) - 2) / 0.4) ** 2\n",
    "    part_2 = torch.log(\n",
    "        torch.exp(-0.5 * ((z[:,0] - 2) / 0.6) ** 2) + \n",
    "        torch.exp(-0.5 * ((z[:,0] + 2) / 0.6) ** 2)\n",
    "    )\n",
    "    return (part_1 - part_2)"
   ]
  },
  {
   "cell_type": "code",
   "execution_count": 347,
   "id": "b83a6db6",
   "metadata": {},
   "outputs": [],
   "source": [
    "@add_taper\n",
    "def U2(z):\n",
    "    return ((1/2) * ((z[:,1] - w1(z)) / 0.4) ** 2)"
   ]
  },
  {
   "cell_type": "code",
   "execution_count": 348,
   "id": "c5a68f13",
   "metadata": {},
   "outputs": [],
   "source": [
    "@add_taper\n",
    "def U3(z):\n",
    "    return - torch.log(\n",
    "        torch.exp(-0.5 * ((z[:, 1] - w1(z)) / 0.35) ** 2) + \n",
    "        torch.exp(-0.5 * ((z[:, 1] - w1(z) + w2(z)) / 0.35) ** 2)\n",
    "    )"
   ]
  },
  {
   "cell_type": "code",
   "execution_count": 349,
   "id": "b8b7bb66",
   "metadata": {},
   "outputs": [],
   "source": [
    "@add_taper\n",
    "def U4(z):\n",
    "    return - torch.log(\n",
    "        torch.exp(-0.5 * ((z[:, 1] - w1(z)) / 0.34) ** 2) + \n",
    "        torch.exp(-0.5 * ((z[:, 1] - w1(z) + w3(z)) / 0.35) ** 2)\n",
    "    )"
   ]
  },
  {
   "cell_type": "code",
   "execution_count": 350,
   "id": "5f1af8e5",
   "metadata": {},
   "outputs": [],
   "source": [
    "class GMM(torch.nn.Module):\n",
    "    \n",
    "    def __init__(self, D, K):\n",
    "        super().__init__()\n",
    "        self.K = K\n",
    "       \n",
    "        self.pre_π = torch.zeros(K, )\n",
    "        self.μs = torch.nn.Parameter(torch.randn(K, D) * 0.1)\n",
    "        self.pre_σs = torch.nn.Parameter(torch.randn(K, D) * 0.1)\n",
    "        \n",
    "        self.comp = tdist.Independent(tdist.Normal(self.μs, torch.exp(self.pre_σs)), 1)\n",
    "        self.cat = tdist.Categorical(logits=self.pre_π)\n",
    "    \n",
    "    def sample(self, n):\n",
    "        \n",
    "        # sampling\n",
    "        \n",
    "        #mixer = F.gumbel_softmax(self.pre_π.repeat(n, 1).detach(), tau=self.tau, hard=True)  # (n, k)\n",
    "        indices = self.cat.sample((n, ))  # (n,)\n",
    "        samples_from_each_gaussian = self.comp.rsample(sample_shape=(n, ))  # (n, k, d)\n",
    "        samples = samples_from_each_gaussian.gather(1, indices.view(-1, 1, 1).repeat(1, 1, 2)).squeeze()\n",
    "        \n",
    "        # log prob computation\n",
    "        \n",
    "        log_π = F.log_softmax(self.pre_π, dim=0)  # (k, )\n",
    "\n",
    "        log_prob_under_each_gaussian = self.comp.log_prob(samples_from_each_gaussian)  # (n, k)\n",
    "        temp = log_π.view(1, -1) + log_prob_under_each_gaussian  # (n, k)\n",
    "        denom = torch.logsumexp(temp, dim=1)  # (n, )\n",
    "        log_resps = temp - denom.view(-1, 1)  # (n, k)\n",
    "        \n",
    "        #log_prob_per_sample = torch.logsumexp(log_π.view(1, -1) + log_prob_under_each_gaussian, dim=1)\n",
    "        log_prob_per_sample = torch.sum(\n",
    "            torch.exp(log_resps) * (log_π.view(1, -1) + log_prob_under_each_gaussian),\n",
    "            dim=1\n",
    "        )\n",
    "        \n",
    "        return samples, log_prob_per_sample"
   ]
  },
  {
   "cell_type": "code",
   "execution_count": 351,
   "id": "cde88635",
   "metadata": {},
   "outputs": [],
   "source": [
    "class GMM(torch.nn.Module):\n",
    "    \n",
    "    def __init__(self, D, K):\n",
    "        super().__init__()\n",
    "        self.K = K\n",
    "       \n",
    "        self.pre_π = torch.zeros(K, )\n",
    "        self.μs = torch.nn.Parameter(torch.zeros(K, D))\n",
    "        self.pre_σs = torch.nn.Parameter(torch.ones(K, D))\n",
    "        \n",
    "        self.cat = tdist.Categorical(logits=self.pre_π)\n",
    "    \n",
    "    def sample(self, n):\n",
    "        \n",
    "        self.comp = tdist.Independent(tdist.Normal(self.μs, torch.exp(self.pre_σs)), 1)\n",
    "        \n",
    "        # sampling\n",
    "        \n",
    "        #mixer = F.gumbel_softmax(self.pre_π.repeat(n, 1).detach(), tau=self.tau, hard=True)  # (n, k)\n",
    "        indices = self.cat.sample((n, ))  # (n,)\n",
    "        samples_from_each_gaussian = self.comp.rsample(sample_shape=(n, ))  # (n, k, d)\n",
    "        samples = samples_from_each_gaussian.gather(1, indices.view(-1, 1, 1).repeat(1, 1, 2)).squeeze()\n",
    "        \n",
    "        # log prob computation\n",
    "        \n",
    "        log_π = F.log_softmax(self.pre_π, dim=0)  # (k, )\n",
    "        # log_π = log_π.view(1, -1).repeat(n, 1)\n",
    "        # log_π = log_π.gather(1, indices.view(-1, 1))\n",
    "\n",
    "        log_prob_under_each_gaussian = self.comp.log_prob(samples.view(n, 1, -1))  # (n, k)        \n",
    "        \n",
    "        temp = log_π.view(1, -1) + log_prob_under_each_gaussian  # (n, k)\n",
    "        denom = torch.logsumexp(temp, dim=1)  # (n, )\n",
    "        log_resps = temp - denom.view(-1, 1)  # (n, k)\n",
    "        \n",
    "        # log_prob_per_sample = torch.logsumexp(log_π + log_prob_under_each_gaussian, dim=1)\n",
    "        log_prob_per_sample = torch.sum(\n",
    "            torch.exp(log_resps) * (log_π.view(1, self.K) + log_prob_under_each_gaussian),\n",
    "            dim=1\n",
    "        )\n",
    "        \n",
    "        return samples, log_prob_per_sample"
   ]
  },
  {
   "cell_type": "code",
   "execution_count": 352,
   "id": "8d80e54b",
   "metadata": {},
   "outputs": [],
   "source": [
    "class GMM2(torch.nn.Module):\n",
    "    \n",
    "    def __init__(self, D, K):\n",
    "        super().__init__()\n",
    "        self.K = K\n",
    "        self.D = D\n",
    "        self.pre_π = torch.zeros(K, )\n",
    "        self.μs = torch.nn.Parameter(torch.zeros(K, D))\n",
    "        self.pre_σs = torch.nn.Parameter(torch.ones(K, D) * -1)  # small sd, otherwise might start in region with too low U, leading to nan\n",
    "        \n",
    "    def sample(self, n):\n",
    "        self.comp = tdist.Independent(tdist.Normal(self.μs, torch.exp(self.pre_σs)), 1)\n",
    "        self.cat = tdist.Categorical(logits=self.pre_π)\n",
    "        indices = self.cat.sample((n, ))  # (n,)\n",
    "        samples_from_each_gaussian = self.comp.rsample(sample_shape=(n, ))  # (n, k, d)\n",
    "        samples = samples_from_each_gaussian.gather(1, indices.view(-1, 1, 1).repeat(1, 1, self.D)).squeeze()\n",
    "        \n",
    "        return samples, self.log_prob(samples)\n",
    "        \n",
    "    def log_prob(self, samples):\n",
    "        n = samples.shape[0]\n",
    "        log_π = F.log_softmax(self.pre_π, dim=0).view(1, -1)  # (1, k)\n",
    "        log_prob_under_each_gaussian = self.comp.log_prob(samples.view(n, 1, self.D))  # (n, k)    \n",
    "        log_prob_per_sample = torch.logsumexp(log_π + log_prob_under_each_gaussian, dim=1)\n",
    "        return log_prob_per_sample"
   ]
  },
  {
   "cell_type": "code",
   "execution_count": 353,
   "id": "38d16b0a",
   "metadata": {},
   "outputs": [
    {
     "name": "stdout",
     "output_type": "stream",
     "text": [
      "torch.Size([20, 100, 2])\n"
     ]
    },
    {
     "data": {
      "text/plain": [
       "torch.Size([20, 100])"
      ]
     },
     "execution_count": 353,
     "metadata": {},
     "output_type": "execute_result"
    }
   ],
   "source": [
    "K = 100\n",
    "D = 2\n",
    "N = 20\n",
    "dist = tdist.MultivariateNormal(\n",
    "        torch.randn(K, D), \n",
    "        torch.eye(D).view(1, D, D).repeat(K, 1, 1)\n",
    "    )\n",
    "samples = dist.sample(sample_shape=(N, ))\n",
    "print(samples.shape)\n",
    "dist.log_prob(samples.view(N, K, D)).shape"
   ]
  },
  {
   "cell_type": "code",
   "execution_count": 354,
   "id": "9191a06e",
   "metadata": {},
   "outputs": [],
   "source": [
    "class GMM3(torch.nn.Module):\n",
    "    \n",
    "    def __init__(self, D, K):\n",
    "        super().__init__()\n",
    "        self.K = K\n",
    "        self.D = D\n",
    "        self.pre_π = torch.zeros(K, )\n",
    "        #self.μs = torch.nn.Parameter((torch.rand(K, D) - 0.5) * 12)\n",
    "        self.μs = torch.nn.Parameter(torch.zeros(K, D))\n",
    "        self.pre_Σs = torch.nn.Parameter(\n",
    "            torch.linalg.cholesky(torch.eye(D).view(1, D, D).repeat(K, 1, 1), upper=True)\n",
    "        )\n",
    "    \n",
    "    def cov(self):\n",
    "        temp = torch.triu(self.pre_Σs)\n",
    "        return torch.bmm(temp.transpose(1, 2), temp)\n",
    "    \n",
    "    @property\n",
    "    def comp(self):\n",
    "        return tdist.MultivariateNormal(self.μs, self.cov())\n",
    "    \n",
    "    @property\n",
    "    def cat(self):\n",
    "        return tdist.Categorical(logits=self.pre_π)\n",
    "        \n",
    "    def sample(self, n):\n",
    "        #mixer = F.gumbel_softmax(self.pre_π.repeat(n, 1), tau=0.1, hard=True, dim=-1)  # (n, k)\n",
    "        #samples_from_each_gaussian = self.comp.rsample(sample_shape=(n, ))  # (n, k, d)\n",
    "        #samples = torch.sum(mixer.view(n, -1, 1) * samples_from_each_gaussian, dim=1)\n",
    "        indices = self.cat.sample((n, ))  # (n,)\n",
    "        samples_from_each_gaussian = self.comp.rsample(sample_shape=(n, ))  # (n, k, d)\n",
    "        samples = samples_from_each_gaussian.gather(1, indices.view(-1, 1, 1).repeat(1, 1, self.D)).squeeze()\n",
    "        return samples, self.log_prob(samples)\n",
    "        \n",
    "    def log_prob(self, samples):\n",
    "        n = samples.shape[0]\n",
    "        log_π = F.log_softmax(self.pre_π, dim=0).view(1, -1)  # (1, k)\n",
    "        log_prob_under_each_gaussian = self.comp.log_prob(samples.view(n, 1, self.D))  # (n, k)\n",
    "        log_prob_per_sample = torch.logsumexp(log_π + log_prob_under_each_gaussian, dim=1)\n",
    "        return log_prob_per_sample"
   ]
  },
  {
   "cell_type": "code",
   "execution_count": 355,
   "id": "ff3058fe",
   "metadata": {},
   "outputs": [],
   "source": [
    "# class GMM3(torch.nn.Module):\n",
    "    \n",
    "#     def __init__(self, D, K):\n",
    "#         super().__init__()\n",
    "#         self.K = K\n",
    "       \n",
    "#         self.pre_π = torch.nn.Parameter(torch.zeros(K, ))\n",
    "#         self.μs = torch.nn.Parameter(torch.zeros(K, D))\n",
    "#         self.pre_σs = torch.nn.Parameter(torch.ones(K, D))\n",
    "        \n",
    "#     def sample(self, n):\n",
    "        \n",
    "#         # distributions\n",
    "        \n",
    "#         self.comp = tdist.Independent(tdist.Normal(self.μs, torch.exp(self.pre_σs)), 1)\n",
    "        \n",
    "#         # sampling\n",
    "        \n",
    "#         mixer = F.gumbel_softmax(self.pre_π.repeat(n, 1), tau=1, hard=True, dim=-1)  # (n, k)\n",
    "#         samples_from_each_gaussian = self.comp.rsample(sample_shape=(n, ))  # (n, k, d)\n",
    "#         samples = torch.sum(mixer.view(n, -1, 1) * samples_from_each_gaussian, dim=1)\n",
    "        \n",
    "#         # log prob computation\n",
    "        \n",
    "#         return samples, self.log_prob(samples)\n",
    "        \n",
    "#     def log_prob(self, samples):\n",
    "        \n",
    "#         log_π = F.log_softmax(self.pre_π, dim=0).view(1, -1)  # (1, k)\n",
    "#         log_prob_under_each_gaussian = self.comp.log_prob(samples.view(samples.shape[0], 1, -1))  # (n, k)    \n",
    "#         log_prob_per_sample = torch.logsumexp(log_π + log_prob_under_each_gaussian, dim=1)\n",
    "        \n",
    "#         return log_prob_per_sample"
   ]
  },
  {
   "cell_type": "markdown",
   "id": "6312996a",
   "metadata": {},
   "source": [
    "## Choosing a potential function"
   ]
  },
  {
   "cell_type": "code",
   "execution_count": 357,
   "id": "ed66d014",
   "metadata": {},
   "outputs": [],
   "source": [
    "potential = \"U1\"\n",
    "\n",
    "if potential == \"U1\":\n",
    "    U = U1\n",
    "elif potential == \"U2\":\n",
    "    U = U2\n",
    "elif potential == \"U3\":\n",
    "    U = U3\n",
    "elif potential == \"U4\":\n",
    "    U = U4\n",
    "elif potential == \"U8\":\n",
    "    U = U_eight"
   ]
  },
  {
   "cell_type": "markdown",
   "id": "7f8ba460",
   "metadata": {},
   "source": [
    "## Graphing potential function"
   ]
  },
  {
   "cell_type": "code",
   "execution_count": 358,
   "id": "41156817",
   "metadata": {
    "scrolled": true
   },
   "outputs": [
    {
     "data": {
      "image/png": "[encoded data removed]",
      "text/plain": [
       "<Figure size 270x270 with 1 Axes>"
      ]
     },
     "metadata": {
      "needs_background": "light"
     },
     "output_type": "display_data"
    }
   ],
   "source": [
    "fig = plt.figure(figsize=(3.75, 3.75))\n",
    "\n",
    "xs = torch.linspace(-6, 6, 100)\n",
    "xxs, yys = torch.meshgrid(xs, xs)\n",
    "xxs2, yys2 = xxs.reshape(-1, 1), yys.reshape(-1, 1)\n",
    "unnorm_p = torch.exp(- U(torch.hstack([xxs2, yys2]))) #* decay(torch.hstack([xxs2, yys2]))\n",
    "\n",
    "plt.contourf(xxs.numpy(), yys.numpy(), unnorm_p.reshape(100, 100).numpy(), levels=100, cmap=\"jet\")\n",
    "plt.xlim(-6, 6)\n",
    "plt.ylim(-6, 6)\n",
    "plt.axis(\"off\")\n",
    "plt.gca().set_aspect('equal', adjustable='box')\n",
    "plt.savefig(f\"imgs/{potential}_true_density.png\", dpi=300, bbox_inches='tight')"
   ]
  },
  {
   "cell_type": "code",
   "execution_count": 359,
   "id": "74f98307",
   "metadata": {},
   "outputs": [
    {
     "data": {
      "text/plain": [
       "tensor(1.9105)"
      ]
     },
     "execution_count": 359,
     "metadata": {},
     "output_type": "execute_result"
    }
   ],
   "source": [
    "torch.linalg.vector_norm(torch.randn(1, 2))"
   ]
  },
  {
   "cell_type": "markdown",
   "id": "b8c1045f",
   "metadata": {},
   "source": [
    "## Training"
   ]
  },
  {
   "cell_type": "code",
   "execution_count": 360,
   "id": "026408fc",
   "metadata": {},
   "outputs": [
    {
     "data": {
      "image/png": "[encoded data removed]",
      "text/plain": [
       "<Figure size 360x360 with 1 Axes>"
      ]
     },
     "metadata": {
      "needs_background": "light"
     },
     "output_type": "display_data"
    }
   ],
   "source": [
    "flow = NormalizingFlow(D=2, K=100)\n",
    "\n",
    "with torch.no_grad():\n",
    "    samples_untrained = flow.sample(n=1000, efficient=True)[0]\n",
    "    \n",
    "plt.figure(figsize=(5, 5))\n",
    "plt.scatter(samples_untrained[:, 0], samples_untrained[:, 1], s=3)\n",
    "#plt.xlim(-6, 6)\n",
    "#plt.ylim(-6, 6)\n",
    "plt.show()"
   ]
  },
  {
   "cell_type": "code",
   "execution_count": 361,
   "id": "70a02729",
   "metadata": {},
   "outputs": [
    {
     "name": "stdout",
     "output_type": "stream",
     "text": [
      "100 -1.2650232315063477\n",
      "200 -1.78687584400177\n",
      "300 -1.8252614736557007\n"
     ]
    },
    {
     "ename": "KeyboardInterrupt",
     "evalue": "",
     "output_type": "error",
     "traceback": [
      "\u001b[0;31m---------------------------------------------------------------------------\u001b[0m",
      "\u001b[0;31mKeyboardInterrupt\u001b[0m                         Traceback (most recent call last)",
      "Input \u001b[0;32mIn [361]\u001b[0m, in \u001b[0;36m<cell line: 8>\u001b[0;34m()\u001b[0m\n\u001b[1;32m     14\u001b[0m opt\u001b[38;5;241m.\u001b[39mzero_grad()\n\u001b[1;32m     15\u001b[0m sample_kl\u001b[38;5;241m.\u001b[39mbackward()\n\u001b[0;32m---> 16\u001b[0m \u001b[43mopt\u001b[49m\u001b[38;5;241;43m.\u001b[39;49m\u001b[43mstep\u001b[49m\u001b[43m(\u001b[49m\u001b[43m)\u001b[49m\n\u001b[1;32m     18\u001b[0m \u001b[38;5;28;01mif\u001b[39;00m i \u001b[38;5;241m%\u001b[39m \u001b[38;5;241m100\u001b[39m \u001b[38;5;241m==\u001b[39m \u001b[38;5;241m0\u001b[39m:\n\u001b[1;32m     20\u001b[0m     \u001b[38;5;28mprint\u001b[39m(i, \u001b[38;5;28mfloat\u001b[39m(sample_kl))\n",
      "File \u001b[0;32m~/opt/miniconda3/envs/mlp/lib/python3.8/site-packages/torch/optim/optimizer.py:280\u001b[0m, in \u001b[0;36mOptimizer.profile_hook_step.<locals>.wrapper\u001b[0;34m(*args, **kwargs)\u001b[0m\n\u001b[1;32m    276\u001b[0m         \u001b[38;5;28;01melse\u001b[39;00m:\n\u001b[1;32m    277\u001b[0m             \u001b[38;5;28;01mraise\u001b[39;00m \u001b[38;5;167;01mRuntimeError\u001b[39;00m(\u001b[38;5;124mf\u001b[39m\u001b[38;5;124m\"\u001b[39m\u001b[38;5;132;01m{\u001b[39;00mfunc\u001b[38;5;132;01m}\u001b[39;00m\u001b[38;5;124m must return None or a tuple of (new_args, new_kwargs),\u001b[39m\u001b[38;5;124m\"\u001b[39m\n\u001b[1;32m    278\u001b[0m                                \u001b[38;5;124mf\u001b[39m\u001b[38;5;124m\"\u001b[39m\u001b[38;5;124mbut got \u001b[39m\u001b[38;5;132;01m{\u001b[39;00mresult\u001b[38;5;132;01m}\u001b[39;00m\u001b[38;5;124m.\u001b[39m\u001b[38;5;124m\"\u001b[39m)\n\u001b[0;32m--> 280\u001b[0m out \u001b[38;5;241m=\u001b[39m \u001b[43mfunc\u001b[49m\u001b[43m(\u001b[49m\u001b[38;5;241;43m*\u001b[39;49m\u001b[43margs\u001b[49m\u001b[43m,\u001b[49m\u001b[43m \u001b[49m\u001b[38;5;241;43m*\u001b[39;49m\u001b[38;5;241;43m*\u001b[39;49m\u001b[43mkwargs\u001b[49m\u001b[43m)\u001b[49m\n\u001b[1;32m    281\u001b[0m \u001b[38;5;28mself\u001b[39m\u001b[38;5;241m.\u001b[39m_optimizer_step_code()\n\u001b[1;32m    283\u001b[0m \u001b[38;5;66;03m# call optimizer step post hooks\u001b[39;00m\n",
      "File \u001b[0;32m~/opt/miniconda3/envs/mlp/lib/python3.8/site-packages/torch/optim/optimizer.py:33\u001b[0m, in \u001b[0;36m_use_grad_for_differentiable.<locals>._use_grad\u001b[0;34m(self, *args, **kwargs)\u001b[0m\n\u001b[1;32m     31\u001b[0m \u001b[38;5;28;01mtry\u001b[39;00m:\n\u001b[1;32m     32\u001b[0m     torch\u001b[38;5;241m.\u001b[39mset_grad_enabled(\u001b[38;5;28mself\u001b[39m\u001b[38;5;241m.\u001b[39mdefaults[\u001b[38;5;124m'\u001b[39m\u001b[38;5;124mdifferentiable\u001b[39m\u001b[38;5;124m'\u001b[39m])\n\u001b[0;32m---> 33\u001b[0m     ret \u001b[38;5;241m=\u001b[39m \u001b[43mfunc\u001b[49m\u001b[43m(\u001b[49m\u001b[38;5;28;43mself\u001b[39;49m\u001b[43m,\u001b[49m\u001b[43m \u001b[49m\u001b[38;5;241;43m*\u001b[39;49m\u001b[43margs\u001b[49m\u001b[43m,\u001b[49m\u001b[43m \u001b[49m\u001b[38;5;241;43m*\u001b[39;49m\u001b[38;5;241;43m*\u001b[39;49m\u001b[43mkwargs\u001b[49m\u001b[43m)\u001b[49m\n\u001b[1;32m     34\u001b[0m \u001b[38;5;28;01mfinally\u001b[39;00m:\n\u001b[1;32m     35\u001b[0m     torch\u001b[38;5;241m.\u001b[39mset_grad_enabled(prev_grad)\n",
      "File \u001b[0;32m~/opt/miniconda3/envs/mlp/lib/python3.8/site-packages/torch/optim/adam.py:141\u001b[0m, in \u001b[0;36mAdam.step\u001b[0;34m(self, closure)\u001b[0m\n\u001b[1;32m    130\u001b[0m     beta1, beta2 \u001b[38;5;241m=\u001b[39m group[\u001b[38;5;124m'\u001b[39m\u001b[38;5;124mbetas\u001b[39m\u001b[38;5;124m'\u001b[39m]\n\u001b[1;32m    132\u001b[0m     \u001b[38;5;28mself\u001b[39m\u001b[38;5;241m.\u001b[39m_init_group(\n\u001b[1;32m    133\u001b[0m         group,\n\u001b[1;32m    134\u001b[0m         params_with_grad,\n\u001b[0;32m   (...)\u001b[0m\n\u001b[1;32m    138\u001b[0m         max_exp_avg_sqs,\n\u001b[1;32m    139\u001b[0m         state_steps)\n\u001b[0;32m--> 141\u001b[0m     \u001b[43madam\u001b[49m\u001b[43m(\u001b[49m\n\u001b[1;32m    142\u001b[0m \u001b[43m        \u001b[49m\u001b[43mparams_with_grad\u001b[49m\u001b[43m,\u001b[49m\n\u001b[1;32m    143\u001b[0m \u001b[43m        \u001b[49m\u001b[43mgrads\u001b[49m\u001b[43m,\u001b[49m\n\u001b[1;32m    144\u001b[0m \u001b[43m        \u001b[49m\u001b[43mexp_avgs\u001b[49m\u001b[43m,\u001b[49m\n\u001b[1;32m    145\u001b[0m \u001b[43m        \u001b[49m\u001b[43mexp_avg_sqs\u001b[49m\u001b[43m,\u001b[49m\n\u001b[1;32m    146\u001b[0m \u001b[43m        \u001b[49m\u001b[43mmax_exp_avg_sqs\u001b[49m\u001b[43m,\u001b[49m\n\u001b[1;32m    147\u001b[0m \u001b[43m        \u001b[49m\u001b[43mstate_steps\u001b[49m\u001b[43m,\u001b[49m\n\u001b[1;32m    148\u001b[0m \u001b[43m        \u001b[49m\u001b[43mamsgrad\u001b[49m\u001b[38;5;241;43m=\u001b[39;49m\u001b[43mgroup\u001b[49m\u001b[43m[\u001b[49m\u001b[38;5;124;43m'\u001b[39;49m\u001b[38;5;124;43mamsgrad\u001b[39;49m\u001b[38;5;124;43m'\u001b[39;49m\u001b[43m]\u001b[49m\u001b[43m,\u001b[49m\n\u001b[1;32m    149\u001b[0m \u001b[43m        \u001b[49m\u001b[43mbeta1\u001b[49m\u001b[38;5;241;43m=\u001b[39;49m\u001b[43mbeta1\u001b[49m\u001b[43m,\u001b[49m\n\u001b[1;32m    150\u001b[0m \u001b[43m        \u001b[49m\u001b[43mbeta2\u001b[49m\u001b[38;5;241;43m=\u001b[39;49m\u001b[43mbeta2\u001b[49m\u001b[43m,\u001b[49m\n\u001b[1;32m    151\u001b[0m \u001b[43m        \u001b[49m\u001b[43mlr\u001b[49m\u001b[38;5;241;43m=\u001b[39;49m\u001b[43mgroup\u001b[49m\u001b[43m[\u001b[49m\u001b[38;5;124;43m'\u001b[39;49m\u001b[38;5;124;43mlr\u001b[39;49m\u001b[38;5;124;43m'\u001b[39;49m\u001b[43m]\u001b[49m\u001b[43m,\u001b[49m\n\u001b[1;32m    152\u001b[0m \u001b[43m        \u001b[49m\u001b[43mweight_decay\u001b[49m\u001b[38;5;241;43m=\u001b[39;49m\u001b[43mgroup\u001b[49m\u001b[43m[\u001b[49m\u001b[38;5;124;43m'\u001b[39;49m\u001b[38;5;124;43mweight_decay\u001b[39;49m\u001b[38;5;124;43m'\u001b[39;49m\u001b[43m]\u001b[49m\u001b[43m,\u001b[49m\n\u001b[1;32m    153\u001b[0m \u001b[43m        \u001b[49m\u001b[43meps\u001b[49m\u001b[38;5;241;43m=\u001b[39;49m\u001b[43mgroup\u001b[49m\u001b[43m[\u001b[49m\u001b[38;5;124;43m'\u001b[39;49m\u001b[38;5;124;43meps\u001b[39;49m\u001b[38;5;124;43m'\u001b[39;49m\u001b[43m]\u001b[49m\u001b[43m,\u001b[49m\n\u001b[1;32m    154\u001b[0m \u001b[43m        \u001b[49m\u001b[43mmaximize\u001b[49m\u001b[38;5;241;43m=\u001b[39;49m\u001b[43mgroup\u001b[49m\u001b[43m[\u001b[49m\u001b[38;5;124;43m'\u001b[39;49m\u001b[38;5;124;43mmaximize\u001b[39;49m\u001b[38;5;124;43m'\u001b[39;49m\u001b[43m]\u001b[49m\u001b[43m,\u001b[49m\n\u001b[1;32m    155\u001b[0m \u001b[43m        \u001b[49m\u001b[43mforeach\u001b[49m\u001b[38;5;241;43m=\u001b[39;49m\u001b[43mgroup\u001b[49m\u001b[43m[\u001b[49m\u001b[38;5;124;43m'\u001b[39;49m\u001b[38;5;124;43mforeach\u001b[39;49m\u001b[38;5;124;43m'\u001b[39;49m\u001b[43m]\u001b[49m\u001b[43m,\u001b[49m\n\u001b[1;32m    156\u001b[0m \u001b[43m        \u001b[49m\u001b[43mcapturable\u001b[49m\u001b[38;5;241;43m=\u001b[39;49m\u001b[43mgroup\u001b[49m\u001b[43m[\u001b[49m\u001b[38;5;124;43m'\u001b[39;49m\u001b[38;5;124;43mcapturable\u001b[39;49m\u001b[38;5;124;43m'\u001b[39;49m\u001b[43m]\u001b[49m\u001b[43m,\u001b[49m\n\u001b[1;32m    157\u001b[0m \u001b[43m        \u001b[49m\u001b[43mdifferentiable\u001b[49m\u001b[38;5;241;43m=\u001b[39;49m\u001b[43mgroup\u001b[49m\u001b[43m[\u001b[49m\u001b[38;5;124;43m'\u001b[39;49m\u001b[38;5;124;43mdifferentiable\u001b[39;49m\u001b[38;5;124;43m'\u001b[39;49m\u001b[43m]\u001b[49m\u001b[43m,\u001b[49m\n\u001b[1;32m    158\u001b[0m \u001b[43m        \u001b[49m\u001b[43mfused\u001b[49m\u001b[38;5;241;43m=\u001b[39;49m\u001b[43mgroup\u001b[49m\u001b[43m[\u001b[49m\u001b[38;5;124;43m'\u001b[39;49m\u001b[38;5;124;43mfused\u001b[39;49m\u001b[38;5;124;43m'\u001b[39;49m\u001b[43m]\u001b[49m\u001b[43m,\u001b[49m\n\u001b[1;32m    159\u001b[0m \u001b[43m        \u001b[49m\u001b[43mgrad_scale\u001b[49m\u001b[38;5;241;43m=\u001b[39;49m\u001b[38;5;28;43mgetattr\u001b[39;49m\u001b[43m(\u001b[49m\u001b[38;5;28;43mself\u001b[39;49m\u001b[43m,\u001b[49m\u001b[43m \u001b[49m\u001b[38;5;124;43m\"\u001b[39;49m\u001b[38;5;124;43mgrad_scale\u001b[39;49m\u001b[38;5;124;43m\"\u001b[39;49m\u001b[43m,\u001b[49m\u001b[43m \u001b[49m\u001b[38;5;28;43;01mNone\u001b[39;49;00m\u001b[43m)\u001b[49m\u001b[43m,\u001b[49m\n\u001b[1;32m    160\u001b[0m \u001b[43m        \u001b[49m\u001b[43mfound_inf\u001b[49m\u001b[38;5;241;43m=\u001b[39;49m\u001b[38;5;28;43mgetattr\u001b[39;49m\u001b[43m(\u001b[49m\u001b[38;5;28;43mself\u001b[39;49m\u001b[43m,\u001b[49m\u001b[43m \u001b[49m\u001b[38;5;124;43m\"\u001b[39;49m\u001b[38;5;124;43mfound_inf\u001b[39;49m\u001b[38;5;124;43m\"\u001b[39;49m\u001b[43m,\u001b[49m\u001b[43m \u001b[49m\u001b[38;5;28;43;01mNone\u001b[39;49;00m\u001b[43m)\u001b[49m\u001b[43m,\u001b[49m\n\u001b[1;32m    161\u001b[0m \u001b[43m    \u001b[49m\u001b[43m)\u001b[49m\n\u001b[1;32m    163\u001b[0m \u001b[38;5;28;01mreturn\u001b[39;00m loss\n",
      "File \u001b[0;32m~/opt/miniconda3/envs/mlp/lib/python3.8/site-packages/torch/optim/adam.py:281\u001b[0m, in \u001b[0;36madam\u001b[0;34m(params, grads, exp_avgs, exp_avg_sqs, max_exp_avg_sqs, state_steps, foreach, capturable, differentiable, fused, grad_scale, found_inf, amsgrad, beta1, beta2, lr, weight_decay, eps, maximize)\u001b[0m\n\u001b[1;32m    278\u001b[0m \u001b[38;5;28;01melse\u001b[39;00m:\n\u001b[1;32m    279\u001b[0m     func \u001b[38;5;241m=\u001b[39m _single_tensor_adam\n\u001b[0;32m--> 281\u001b[0m \u001b[43mfunc\u001b[49m\u001b[43m(\u001b[49m\u001b[43mparams\u001b[49m\u001b[43m,\u001b[49m\n\u001b[1;32m    282\u001b[0m \u001b[43m     \u001b[49m\u001b[43mgrads\u001b[49m\u001b[43m,\u001b[49m\n\u001b[1;32m    283\u001b[0m \u001b[43m     \u001b[49m\u001b[43mexp_avgs\u001b[49m\u001b[43m,\u001b[49m\n\u001b[1;32m    284\u001b[0m \u001b[43m     \u001b[49m\u001b[43mexp_avg_sqs\u001b[49m\u001b[43m,\u001b[49m\n\u001b[1;32m    285\u001b[0m \u001b[43m     \u001b[49m\u001b[43mmax_exp_avg_sqs\u001b[49m\u001b[43m,\u001b[49m\n\u001b[1;32m    286\u001b[0m \u001b[43m     \u001b[49m\u001b[43mstate_steps\u001b[49m\u001b[43m,\u001b[49m\n\u001b[1;32m    287\u001b[0m \u001b[43m     \u001b[49m\u001b[43mamsgrad\u001b[49m\u001b[38;5;241;43m=\u001b[39;49m\u001b[43mamsgrad\u001b[49m\u001b[43m,\u001b[49m\n\u001b[1;32m    288\u001b[0m \u001b[43m     \u001b[49m\u001b[43mbeta1\u001b[49m\u001b[38;5;241;43m=\u001b[39;49m\u001b[43mbeta1\u001b[49m\u001b[43m,\u001b[49m\n\u001b[1;32m    289\u001b[0m \u001b[43m     \u001b[49m\u001b[43mbeta2\u001b[49m\u001b[38;5;241;43m=\u001b[39;49m\u001b[43mbeta2\u001b[49m\u001b[43m,\u001b[49m\n\u001b[1;32m    290\u001b[0m \u001b[43m     \u001b[49m\u001b[43mlr\u001b[49m\u001b[38;5;241;43m=\u001b[39;49m\u001b[43mlr\u001b[49m\u001b[43m,\u001b[49m\n\u001b[1;32m    291\u001b[0m \u001b[43m     \u001b[49m\u001b[43mweight_decay\u001b[49m\u001b[38;5;241;43m=\u001b[39;49m\u001b[43mweight_decay\u001b[49m\u001b[43m,\u001b[49m\n\u001b[1;32m    292\u001b[0m \u001b[43m     \u001b[49m\u001b[43meps\u001b[49m\u001b[38;5;241;43m=\u001b[39;49m\u001b[43meps\u001b[49m\u001b[43m,\u001b[49m\n\u001b[1;32m    293\u001b[0m \u001b[43m     \u001b[49m\u001b[43mmaximize\u001b[49m\u001b[38;5;241;43m=\u001b[39;49m\u001b[43mmaximize\u001b[49m\u001b[43m,\u001b[49m\n\u001b[1;32m    294\u001b[0m \u001b[43m     \u001b[49m\u001b[43mcapturable\u001b[49m\u001b[38;5;241;43m=\u001b[39;49m\u001b[43mcapturable\u001b[49m\u001b[43m,\u001b[49m\n\u001b[1;32m    295\u001b[0m \u001b[43m     \u001b[49m\u001b[43mdifferentiable\u001b[49m\u001b[38;5;241;43m=\u001b[39;49m\u001b[43mdifferentiable\u001b[49m\u001b[43m,\u001b[49m\n\u001b[1;32m    296\u001b[0m \u001b[43m     \u001b[49m\u001b[43mgrad_scale\u001b[49m\u001b[38;5;241;43m=\u001b[39;49m\u001b[43mgrad_scale\u001b[49m\u001b[43m,\u001b[49m\n\u001b[1;32m    297\u001b[0m \u001b[43m     \u001b[49m\u001b[43mfound_inf\u001b[49m\u001b[38;5;241;43m=\u001b[39;49m\u001b[43mfound_inf\u001b[49m\u001b[43m)\u001b[49m\n",
      "File \u001b[0;32m~/opt/miniconda3/envs/mlp/lib/python3.8/site-packages/torch/optim/adam.py:391\u001b[0m, in \u001b[0;36m_single_tensor_adam\u001b[0;34m(params, grads, exp_avgs, exp_avg_sqs, max_exp_avg_sqs, state_steps, grad_scale, found_inf, amsgrad, beta1, beta2, lr, weight_decay, eps, maximize, capturable, differentiable)\u001b[0m\n\u001b[1;32m    389\u001b[0m     denom \u001b[38;5;241m=\u001b[39m (max_exp_avg_sqs[i]\u001b[38;5;241m.\u001b[39msqrt() \u001b[38;5;241m/\u001b[39m bias_correction2_sqrt)\u001b[38;5;241m.\u001b[39madd_(eps)\n\u001b[1;32m    390\u001b[0m \u001b[38;5;28;01melse\u001b[39;00m:\n\u001b[0;32m--> 391\u001b[0m     denom \u001b[38;5;241m=\u001b[39m (\u001b[43mexp_avg_sq\u001b[49m\u001b[38;5;241;43m.\u001b[39;49m\u001b[43msqrt\u001b[49m\u001b[43m(\u001b[49m\u001b[43m)\u001b[49m\u001b[43m \u001b[49m\u001b[38;5;241;43m/\u001b[39;49m\u001b[43m \u001b[49m\u001b[43mbias_correction2_sqrt\u001b[49m)\u001b[38;5;241m.\u001b[39madd_(eps)\n\u001b[1;32m    393\u001b[0m param\u001b[38;5;241m.\u001b[39maddcdiv_(exp_avg, denom, value\u001b[38;5;241m=\u001b[39m\u001b[38;5;241m-\u001b[39mstep_size)\n",
      "\u001b[0;31mKeyboardInterrupt\u001b[0m: "
     ]
    }
   ],
   "source": [
    "flow = NormalizingFlow(D=2, K=100)\n",
    "opt = optim.Adam(flow.parameters(), lr=2e-3)\n",
    "\n",
    "start = time.perf_counter()\n",
    "\n",
    "samples_kls = []\n",
    "\n",
    "for i in range(1, 10001):\n",
    "    \n",
    "    samples_from_q_K, log_probs = flow.sample(n=1000, efficient=True)\n",
    "    sample_kl = (log_probs + U(samples_from_q_K)).mean()  # monte-carlo estimate of the kl-divergence\n",
    "    samples_kls.append(float(sample_kl))\n",
    "    \n",
    "    opt.zero_grad()\n",
    "    sample_kl.backward()\n",
    "    opt.step()\n",
    "\n",
    "    if i % 100 == 0:\n",
    "        \n",
    "        print(i, float(sample_kl))\n",
    "            \n",
    "end = time.perf_counter()\n",
    "end - start"
   ]
  },
  {
   "cell_type": "code",
   "execution_count": null,
   "id": "572999d0",
   "metadata": {},
   "outputs": [],
   "source": []
  },
  {
   "cell_type": "code",
   "execution_count": null,
   "id": "3800e90a",
   "metadata": {},
   "outputs": [],
   "source": []
  },
  {
   "cell_type": "code",
   "execution_count": 362,
   "id": "328dee42",
   "metadata": {},
   "outputs": [
    {
     "data": {
      "image/png": "[encoded data removed]",
      "text/plain": [
       "<Figure size 270x270 with 1 Axes>"
      ]
     },
     "metadata": {
      "needs_background": "light"
     },
     "output_type": "display_data"
    }
   ],
   "source": [
    "fig = plt.figure(figsize=(3.75, 3.75))\n",
    "plt.plot(samples_kls)\n",
    "plt.savefig(f\"imgs/{potential}_kl_over_time.png\", dpi=300, bbox_inches='tight')"
   ]
  },
  {
   "cell_type": "markdown",
   "id": "243950c1",
   "metadata": {},
   "source": [
    "## Graphing"
   ]
  },
  {
   "cell_type": "code",
   "execution_count": 363,
   "id": "31fb30a2",
   "metadata": {},
   "outputs": [
    {
     "data": {
      "image/png": "[encoded data removed]",
      "text/plain": [
       "<Figure size 270x270 with 1 Axes>"
      ]
     },
     "metadata": {
      "needs_background": "light"
     },
     "output_type": "display_data"
    }
   ],
   "source": [
    "fig = plt.figure(figsize=(3.75, 3.75))\n",
    "\n",
    "samples_qK, _ = flow.sample(n=int(1e6))\n",
    "samples_qK = samples_qK.detach().numpy()\n",
    "\n",
    "#samples_qK = samples_qK[np.bitwise_and(samples_qK[:,0] >= -4 , samples_qK[:,0] <= 4)]\n",
    "\n",
    "# plt.hexbin(samples_qK[:,0], samples_qK[:,1], gridsize=50, cmap=\"turbo\", extent=[-4, 4, -4, 4])\n",
    "plt.hist2d(samples_qK[:,0], samples_qK[:,1], bins=100, cmap=\"jet\", range=[[-6, 6], [-6, 6]])\n",
    "    \n",
    "plt.axis(\"off\")\n",
    "plt.gca().set_aspect('equal', adjustable='box')\n",
    "\n",
    "plt.savefig(f\"imgs/{potential}_learned_density.png\", dpi=300, bbox_inches='tight')"
   ]
  },
  {
   "cell_type": "markdown",
   "id": "69b3aa6a",
   "metadata": {},
   "source": [
    "### n = 10000"
   ]
  },
  {
   "cell_type": "code",
   "execution_count": 336,
   "id": "0dea5045",
   "metadata": {},
   "outputs": [],
   "source": [
    "# copied from stackoverflow\n",
    "phi = np.linspace(0, 2*np.pi, n)\n",
    "x = np.sin(phi)\n",
    "y = np.cos(phi)\n",
    "rgb_cycle = (np.stack((np.cos(phi          ), # Three sinusoids,\n",
    "                       np.cos(phi+2*np.pi/3), # 120° phase shifted,\n",
    "                       np.cos(phi-2*np.pi/3)\n",
    "                      )).T # Shape = (60,3)\n",
    "             + 1)*0.5   "
   ]
  },
  {
   "cell_type": "code",
   "execution_count": 337,
   "id": "bed00831",
   "metadata": {},
   "outputs": [
    {
     "data": {
      "image/png": "[encoded data removed]",
      "text/plain": [
       "<Figure size 360x270 with 12 Axes>"
      ]
     },
     "metadata": {},
     "output_type": "display_data"
    }
   ],
   "source": [
    "samples_from_each_layer = flow.sample_from_each_layer(n=n)\n",
    "samples_from_each_layer = [samples.detach().numpy() for samples in samples_from_each_layer]\n",
    "\n",
    "indices = np.argsort(\n",
    "    (samples_from_each_layer[0][:,0] - float(flow.μ[0])) ** 2 + \n",
    "    (samples_from_each_layer[0][:,1] - float(flow.μ[1])) ** 2\n",
    ")\n",
    "\n",
    "fig = plt.figure(figsize=(5, 5 / 4 * 3), )\n",
    "for i, j in enumerate([0, 5, 10, 20, 30, 40, 50, 60, 70, 80, 90, 100]):\n",
    "    fig.add_subplot(3, 4, i+1)\n",
    "    plt.scatter(samples_from_each_layer[j][:,0][indices], \n",
    "                samples_from_each_layer[j][:,1][indices], \n",
    "                color=rgb_cycle,\n",
    "                s=0.01, alpha=1)\n",
    "    plt.text(-4.5, 3, f\"{j}\", size=13)\n",
    "    plt.xlim(-6, 6)\n",
    "    plt.ylim(-6, 6)\n",
    "    plt.xticks([])\n",
    "    plt.yticks([])\n",
    "fig.subplots_adjust(wspace=0, hspace=0)\n",
    "\n",
    "plt.savefig(f\"imgs/{potential}_samples_from_each_layer.png\", dpi=300, bbox_inches='tight')"
   ]
  },
  {
   "cell_type": "markdown",
   "id": "7a238eb2",
   "metadata": {},
   "source": [
    "## Unused code"
   ]
  },
  {
   "cell_type": "code",
   "execution_count": null,
   "id": "0e072911",
   "metadata": {},
   "outputs": [],
   "source": [
    "# connecting lines between points in q0 and points in qk\n",
    "\n",
    "# samples_q0, samples_qK, _ = flow.sample_and_return_log_prob(n=1000)\n",
    "# samples_q0 = samples_q0.detach().numpy()\n",
    "# samples_qK = samples_qK.detach().numpy()\n",
    "\n",
    "# for i in range(len(samples_q0)):\n",
    "#     plt.plot([samples_q0[i][0] + 5, samples_qK[i][0]], \n",
    "#              [samples_q0[i][1] + 5, samples_qK[i][1]], \n",
    "#              color=\"black\", linewidth=0.2, alpha=0.1)\n",
    "\n",
    "# plt.scatter(samples_q0[:,0] + 5, samples_q0[:,1] + 5, s=5, color=\"green\", alpha=0.1)\n",
    "# plt.scatter(samples_qK[:,0], samples_qK[:,1], s=5, color=\"red\", alpha=0.1)\n",
    "    \n",
    "# #plt.xlim(-4, 4)\n",
    "# #plt.ylim(-4, 4)\n",
    "# plt.axis(\"off\")\n",
    "# plt.gca().set_aspect('equal', adjustable='box')\n",
    "# plt.savefig(\"flow.png\", dpi=300)"
   ]
  },
  {
   "cell_type": "code",
   "execution_count": null,
   "id": "643d213c",
   "metadata": {},
   "outputs": [],
   "source": [
    "# density plot with Gaussian KDE\n",
    "\n",
    "# _, samples_qK, _ = flow.sample_and_return_log_prob(n=100000)\n",
    "# samples_qK = samples_qK.detach().numpy()\n",
    "\n",
    "# x, y = samples_qK[:,0], samples_qK[:,1]\n",
    "# nbins = 50\n",
    "# xi, yi = np.meshgrid(np.linspace(x.min(), x.max(), nbins), np.linspace(y.min(), y.max(), nbins))\n",
    "\n",
    "# k = kde.gaussian_kde(samples_qK.T, bw_method=0.02)\n",
    "# zi = k(np.vstack([xi.flatten(), yi.flatten()]))\n",
    "\n",
    "# plt.contourf(xi, yi, zi.reshape(xi.shape), levels=20, cmap=\"turbo\")\n",
    "\n",
    "# plt.xlim(-4, 4)\n",
    "# plt.ylim(-4, 4)\n",
    "# plt.axis(\"off\")\n",
    "# plt.gca().set_aspect('equal', adjustable='box')\n",
    "# plt.savefig(\"u4_density_estimated.png\", dpi=1000)"
   ]
  }
 ],
 "metadata": {
  "kernelspec": {
   "display_name": "Python 3 (ipykernel)",
   "language": "python",
   "name": "python3"
  },
  "language_info": {
   "codemirror_mode": {
    "name": "ipython",
    "version": 3
   },
   "file_extension": ".py",
   "mimetype": "text/x-python",
   "name": "python",
   "nbconvert_exporter": "python",
   "pygments_lexer": "ipython3",
   "version": "3.8.13"
  },
  "toc": {
   "base_numbering": 1,
   "nav_menu": {},
   "number_sections": false,
   "sideBar": true,
   "skip_h1_title": false,
   "title_cell": "Table of Contents",
   "title_sidebar": "Contents",
   "toc_cell": false,
   "toc_position": {},
   "toc_section_display": true,
   "toc_window_display": false
  }
 },
 "nbformat": 4,
 "nbformat_minor": 5
}
